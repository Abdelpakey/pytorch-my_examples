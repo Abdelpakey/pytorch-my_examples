{
 "cells": [
  {
   "cell_type": "markdown",
   "metadata": {},
   "source": [
    "# Basic examples with PyTorch\n",
    "\n",
    "- Tensor manipulations\n",
    "- Variables and `autograd`\n",
    "- Optimization toy example\n",
    "- Neural network architecture example\n",
    "\n",
    "Links:\n",
    "- [API](http://pytorch.org/docs/master/index.html)\n",
    "- [nn tutorial](http://pytorch.org/tutorials/beginner/blitz/neural_networks_tutorial.html)\n",
    "- [pytorch-notes](https://ikhlestov.github.io/pages/machine-learning/pytorch-notes)"
   ]
  },
  {
   "cell_type": "code",
   "execution_count": 1,
   "metadata": {},
   "outputs": [],
   "source": [
    "import torch\n",
    "import numpy as np"
   ]
  },
  {
   "cell_type": "code",
   "execution_count": 2,
   "metadata": {},
   "outputs": [
    {
     "data": {
      "text/plain": [
       "'0.2.0_3'"
      ]
     },
     "execution_count": 2,
     "metadata": {},
     "output_type": "execute_result"
    }
   ],
   "source": [
    "torch.__version__"
   ]
  },
  {
   "cell_type": "markdown",
   "metadata": {},
   "source": [
    "## Tensors\n",
    "\n",
    "> A [`torch.Tensor`](http://pytorch.org/docs/master/tensors.html) is a multi-dimensional matrix containing elements of a single data type.\n",
    "\n",
    "> Each tensor has an associated [`torch.Storage`](http://pytorch.org/docs/master/storage.html), which holds its data.\n",
    "\n",
    "[8 CPU/GPU types](http://pytorch.org/docs/master/tensors.html): `float`, `double`, `half` (16-bit floating), `integer` (signed, unsigned) (8-bits, 16-bits), `long` \n",
    "\n",
    "\n",
    "\n",
    "Let's create a tensor: x"
   ]
  },
  {
   "cell_type": "code",
   "execution_count": 3,
   "metadata": {},
   "outputs": [
    {
     "name": "stdout",
     "output_type": "stream",
     "text": [
      "\n",
      " 0  1  2  3\n",
      " 2  3  4  5\n",
      "[torch.LongTensor of size 2x4]\n",
      "\n"
     ]
    }
   ],
   "source": [
    "x = np.array([[0, 1, 2, 3], [2, 3, 4, 5]])\n",
    "x = torch.from_numpy(x)\n",
    "print(x)"
   ]
  },
  {
   "cell_type": "markdown",
   "metadata": {},
   "source": [
    "Let's compute some metrics using PyTorch"
   ]
  },
  {
   "cell_type": "code",
   "execution_count": 15,
   "metadata": {},
   "outputs": [],
   "source": [
    "from sklearn.metrics import precision_score, recall_score, accuracy_score"
   ]
  },
  {
   "cell_type": "code",
   "execution_count": 17,
   "metadata": {},
   "outputs": [],
   "source": [
    "y_true = np.array([0, 0, 0, 1, 1, 2, 2, 2])\n",
    "y_pred = np.array([\n",
    "    [0.7, 0.3, 0],  # OK\n",
    "    [0.1, 0.6, 0.3], # NOK\n",
    "    [0.8, 0.2, 0.0], # OK\n",
    "    [0.55, 0.15, 0.3], # NOK\n",
    "    [0.2, 0.6, 0.2], # OK \n",
    "    [0.1, 0.1, 0.8], # OK\n",
    "    [0.1, 0.2, 0.7], # OK\n",
    "    [0.1, 0.7, 0.2], # NOK\n",
    "])"
   ]
  },
  {
   "cell_type": "code",
   "execution_count": 6,
   "metadata": {},
   "outputs": [],
   "source": [
    "# def numpy_tp(y_true, y_pred):\n",
    "#     y_pred = np.round(np.clip(y_pred, 0.0, 1.0))\n",
    "#     return np.sum(np.round(np.clip(y_true * y_pred, 0.0, 1.0))).astype(np.int)\n",
    "\n",
    "# def numpy_fp(y_true, y_pred):\n",
    "#     predicted_positives = np.sum(np.round(np.clip(y_pred, 0.0, 1.0))).astype(np.int)\n",
    "#     return predicted_positives - numpy_tp(y_true, y_pred)\n",
    "\n",
    "# def numpy_fn(y_true, y_pred):\n",
    "#     y_pred = np.round(np.clip(y_pred, 0.0, 1.0))\n",
    "#     possible_positives = np.sum(np.round(np.clip(y_true, 0, 1))).astype(np.int)\n",
    "#     return possible_positives - numpy_tp(y_true, y_pred)"
   ]
  },
  {
   "cell_type": "code",
   "execution_count": 7,
   "metadata": {},
   "outputs": [
    {
     "name": "stdout",
     "output_type": "stream",
     "text": [
      "TP, FP, FN :  5 3 3\n",
      "Precision:  0.624999999992\n",
      "Recall:  0.624999999992\n"
     ]
    }
   ],
   "source": [
    "# print(\"TP, FP, FN : \", numpy_tp(y_true, y_pred), numpy_fp(y_true, y_pred), numpy_fn(y_true, y_pred))\n",
    "# print(\"Precision: \", numpy_tp(y_true, y_pred) / (numpy_tp(y_true, y_pred) + numpy_fp(y_true, y_pred) + 1e-10))\n",
    "# print(\"Recall: \", numpy_tp(y_true, y_pred) / (numpy_tp(y_true, y_pred) + numpy_fn(y_true, y_pred) + 1e-10))"
   ]
  },
  {
   "cell_type": "code",
   "execution_count": 8,
   "metadata": {},
   "outputs": [
    {
     "data": {
      "text/plain": [
       "0.625"
      ]
     },
     "execution_count": 8,
     "metadata": {},
     "output_type": "execute_result"
    }
   ],
   "source": [
    "precision_score(np.argmax(y_true, axis=1), np.argmax(y_pred, axis=1), average='micro')"
   ]
  },
  {
   "cell_type": "code",
   "execution_count": 9,
   "metadata": {},
   "outputs": [
    {
     "data": {
      "text/plain": [
       "0.625"
      ]
     },
     "execution_count": 9,
     "metadata": {},
     "output_type": "execute_result"
    }
   ],
   "source": [
    "recall_score(np.argmax(y_true, axis=1), np.argmax(y_pred, axis=1), average='micro')"
   ]
  },
  {
   "cell_type": "code",
   "execution_count": 16,
   "metadata": {},
   "outputs": [
    {
     "data": {
      "text/plain": [
       "0.625"
      ]
     },
     "execution_count": 16,
     "metadata": {},
     "output_type": "execute_result"
    }
   ],
   "source": [
    "accuracy_score(np.argmax(y_true, axis=1), np.argmax(y_pred, axis=1))"
   ]
  },
  {
   "cell_type": "markdown",
   "metadata": {},
   "source": [
    "Pay attention to type conversions"
   ]
  },
  {
   "cell_type": "code",
   "execution_count": 10,
   "metadata": {},
   "outputs": [],
   "source": [
    "def tp_f(y_true, y_pred):\n",
    "    y_pred = torch.round(torch.clamp(y_pred, 0.0, 1.0)).long()\n",
    "    return torch.sum(y_true * y_pred)\n",
    "\n",
    "\n",
    "def fp_f(y_true, y_pred):\n",
    "    predicted_positives = torch.sum(torch.round(torch.clamp(y_pred, 0.0, 1.0)).long())\n",
    "    return predicted_positives - tp_f(y_true, y_pred)\n",
    "\n",
    "\n",
    "def precision(y_true, y_pred):\n",
    "    tp_score = tp_f(y_true, y_pred)\n",
    "    predicted_positives = torch.sum(torch.round(torch.clamp(y_pred, 0.0, 1.0)).long())\n",
    "    return tp_score / (predicted_positives + 1e-10)\n",
    "\n",
    "\n",
    "def recall(y_true, y_pred):\n",
    "    tp_score = tp_f(y_true, y_pred)\n",
    "    possible_positives = torch.sum(torch.clamp(y_true, 0, 1))\n",
    "    return tp_score / (possible_positives + 1e-10)\n",
    "\n",
    "\n",
    "def accuracy(y_true, y_pred):\n",
    "    "
   ]
  },
  {
   "cell_type": "code",
   "execution_count": 11,
   "metadata": {},
   "outputs": [
    {
     "data": {
      "text/plain": [
       "('torch.LongTensor', 'torch.DoubleTensor')"
      ]
     },
     "execution_count": 11,
     "metadata": {},
     "output_type": "execute_result"
    }
   ],
   "source": [
    "y_true_th = torch.from_numpy(y_true)\n",
    "y_pred_th = torch.from_numpy(y_pred)\n",
    "y_true_th.type(), y_pred_th.type()"
   ]
  },
  {
   "cell_type": "markdown",
   "metadata": {},
   "source": [
    "Display tensor shape:"
   ]
  },
  {
   "cell_type": "code",
   "execution_count": 12,
   "metadata": {},
   "outputs": [
    {
     "data": {
      "text/plain": [
       "(torch.Size([8, 3]), torch.Size([8, 3]))"
      ]
     },
     "execution_count": 12,
     "metadata": {},
     "output_type": "execute_result"
    }
   ],
   "source": [
    "y_true_th.size(), y_pred_th.size(), "
   ]
  },
  {
   "cell_type": "code",
   "execution_count": 13,
   "metadata": {},
   "outputs": [],
   "source": [
    "_tp = tp_f(y_true_th, y_pred_th)\n",
    "_fp = fp_f(y_true_th, y_pred_th)"
   ]
  },
  {
   "cell_type": "code",
   "execution_count": 14,
   "metadata": {},
   "outputs": [
    {
     "name": "stdout",
     "output_type": "stream",
     "text": [
      "TP, FP :  5 3\n",
      "Precision :  0.6249999999921875\n",
      "Recall :  0.6249999999921875\n"
     ]
    }
   ],
   "source": [
    "print(\"TP, FP : \", _tp, _fp)\n",
    "print(\"Precision : \", precision(y_true_th, y_pred_th))\n",
    "print(\"Recall : \", recall(y_true_th, y_pred_th))"
   ]
  },
  {
   "cell_type": "code",
   "execution_count": null,
   "metadata": {},
   "outputs": [],
   "source": []
  },
  {
   "cell_type": "markdown",
   "metadata": {},
   "source": [
    "Let's check if CUDA is available"
   ]
  },
  {
   "cell_type": "code",
   "execution_count": 162,
   "metadata": {},
   "outputs": [],
   "source": [
    "assert torch.cuda.is_available()"
   ]
  },
  {
   "cell_type": "markdown",
   "metadata": {},
   "source": [
    "Let's compute same stuff on GPU : \n",
    "\n",
    "- Pass tensor from CPU to GPU : x.cuda()\n",
    "- Pass tensor from GPU to CPU : x.cpu()\n",
    "\n",
    "\n",
    "To choose a device, one uses : \n",
    "```\n",
    "with torch.cuda.device(0):\n",
    "    pass\n",
    "```\n",
    "\n",
    "> Host to GPU copies are much faster when they originate from pinned (page-locked) memory. CPU tensors and storages expose a `pin_memory()` method, that returns a copy of the object, with data put in a pinned region.\n",
    "\n",
    "> Also, once you pin a tensor or storage, you can use asynchronous GPU copies. Just pass an additional `async=True` argument to a `cuda()` call. This can be used to overlap data transfers with computation."
   ]
  },
  {
   "cell_type": "code",
   "execution_count": 164,
   "metadata": {},
   "outputs": [],
   "source": [
    "y_true_cuda = y_true_th.cuda()\n",
    "y_pred_cuda = y_pred_th.cuda()"
   ]
  },
  {
   "cell_type": "code",
   "execution_count": 167,
   "metadata": {},
   "outputs": [
    {
     "data": {
      "text/plain": [
       "('torch.cuda.LongTensor', 'torch.LongTensor')"
      ]
     },
     "execution_count": 167,
     "metadata": {},
     "output_type": "execute_result"
    }
   ],
   "source": [
    "y_true_cuda.type(), y_true_th.type()"
   ]
  },
  {
   "cell_type": "code",
   "execution_count": 170,
   "metadata": {},
   "outputs": [
    {
     "name": "stdout",
     "output_type": "stream",
     "text": [
      "Precision :  0.6249999999921875\n",
      "Recall :  0.6249999999921875\n"
     ]
    }
   ],
   "source": [
    "print(\"Precision : \", precision(y_true_cuda, y_pred_cuda))\n",
    "print(\"Recall : \", recall(y_true_cuda, y_pred_cuda))"
   ]
  },
  {
   "cell_type": "code",
   "execution_count": null,
   "metadata": {},
   "outputs": [],
   "source": []
  },
  {
   "cell_type": "markdown",
   "metadata": {},
   "source": [
    "## Variables\n",
    "\n",
    "Story on automatic gradient computation wrt variables\n",
    "\n",
    "Let's create a quadratic function $y(x)$ and compute a gradient"
   ]
  },
  {
   "cell_type": "code",
   "execution_count": 6,
   "metadata": {},
   "outputs": [],
   "source": [
    "from torch.autograd import Variable"
   ]
  },
  {
   "cell_type": "code",
   "execution_count": 128,
   "metadata": {},
   "outputs": [],
   "source": [
    "x = Variable(torch.FloatTensor([0, 1, 2, 3, 4, 5]), requires_grad=True)\n",
    "y = torch.sum(torch.pow(x, 2.0) + 3.0 * x + 1.0)"
   ]
  },
  {
   "cell_type": "markdown",
   "metadata": {},
   "source": [
    "Visualize variable graph. Code taken from [here](https://github.com/szagoruyko/functional-zoo/blob/master/visualize.py)"
   ]
  },
  {
   "cell_type": "code",
   "execution_count": 9,
   "metadata": {},
   "outputs": [],
   "source": [
    "from graphviz import Digraph\n",
    "\n",
    "\n",
    "def make_dot(var, params=None):\n",
    "    \"\"\" Produces Graphviz representation of PyTorch autograd graph\n",
    "    Blue nodes are the Variables that require grad, orange are Tensors\n",
    "    saved for backward in torch.autograd.Function\n",
    "    Args:\n",
    "        var: output Variable\n",
    "        params: dict of (name, Variable) to add names to node that\n",
    "            require grad (TODO: make optional)\n",
    "    \"\"\"\n",
    "    if params is not None:\n",
    "        assert isinstance(params.values()[0], Variable)\n",
    "        param_map = {id(v): k for k, v in params.items()}\n",
    "\n",
    "    node_attr = dict(style='filled',\n",
    "                     shape='box',\n",
    "                     align='left',\n",
    "                     fontsize='12',\n",
    "                     ranksep='0.1',\n",
    "                     height='0.2')\n",
    "    dot = Digraph(node_attr=node_attr, graph_attr=dict(size=\"12,12\"))\n",
    "    seen = set()\n",
    "\n",
    "    def size_to_str(size):\n",
    "        return '('+(', ').join(['%d' % v for v in size])+')'\n",
    "\n",
    "    def add_nodes(var):\n",
    "        if var not in seen:\n",
    "            if torch.is_tensor(var):\n",
    "                dot.node(str(id(var)), size_to_str(var.size()), fillcolor='orange')\n",
    "            elif hasattr(var, 'variable'):\n",
    "                u = var.variable\n",
    "                name = param_map[id(u)] if params is not None else ''\n",
    "                node_name = '%s\\n %s' % (name, size_to_str(u.size()))\n",
    "                dot.node(str(id(var)), node_name, fillcolor='lightblue')\n",
    "            else:\n",
    "                dot.node(str(id(var)), str(type(var).__name__))\n",
    "            seen.add(var)\n",
    "            if hasattr(var, 'next_functions'):\n",
    "                for u in var.next_functions:\n",
    "                    if u[0] is not None:\n",
    "                        dot.edge(str(id(u[0])), str(id(var)))\n",
    "                        add_nodes(u[0])\n",
    "            if hasattr(var, 'saved_tensors'):\n",
    "                for t in var.saved_tensors:\n",
    "                    dot.edge(str(id(t)), str(id(var)))\n",
    "                    add_nodes(t)\n",
    "    add_nodes(var.grad_fn)\n",
    "    return dot"
   ]
  },
  {
   "cell_type": "code",
   "execution_count": 130,
   "metadata": {},
   "outputs": [
    {
     "data": {
      "image/svg+xml": [
       "<?xml version=\"1.0\" encoding=\"UTF-8\" standalone=\"no\"?>\n",
       "<!DOCTYPE svg PUBLIC \"-//W3C//DTD SVG 1.1//EN\"\n",
       " \"http://www.w3.org/Graphics/SVG/1.1/DTD/svg11.dtd\">\n",
       "<!-- Generated by graphviz version 2.38.0 (20140413.2041)\n",
       " -->\n",
       "<!-- Title: %3 Pages: 1 -->\n",
       "<svg width=\"350pt\" height=\"271pt\"\n",
       " viewBox=\"0.00 0.00 350.00 271.00\" xmlns=\"http://www.w3.org/2000/svg\" xmlns:xlink=\"http://www.w3.org/1999/xlink\">\n",
       "<g id=\"graph0\" class=\"graph\" transform=\"scale(1 1) rotate(0) translate(4 267)\">\n",
       "<title>%3</title>\n",
       "<polygon fill=\"white\" stroke=\"none\" points=\"-4,4 -4,-267 346,-267 346,4 -4,4\"/>\n",
       "<!-- 139649544517816 -->\n",
       "<g id=\"node1\" class=\"node\"><title>139649544517816</title>\n",
       "<polygon fill=\"lightgrey\" stroke=\"black\" points=\"225,-21 118,-21 118,-0 225,-0 225,-21\"/>\n",
       "<text text-anchor=\"middle\" x=\"171.5\" y=\"-7.4\" font-family=\"Times,serif\" font-size=\"12.00\">SumBackward</text>\n",
       "</g>\n",
       "<!-- 139649544517336 -->\n",
       "<g id=\"node2\" class=\"node\"><title>139649544517336</title>\n",
       "<polygon fill=\"lightgrey\" stroke=\"black\" points=\"253,-78 90,-78 90,-57 253,-57 253,-78\"/>\n",
       "<text text-anchor=\"middle\" x=\"171.5\" y=\"-64.4\" font-family=\"Times,serif\" font-size=\"12.00\">AddConstantBackward</text>\n",
       "</g>\n",
       "<!-- 139649544517336&#45;&gt;139649544517816 -->\n",
       "<g id=\"edge1\" class=\"edge\"><title>139649544517336&#45;&gt;139649544517816</title>\n",
       "<path fill=\"none\" stroke=\"black\" d=\"M171.5,-56.9197C171.5,-49.9083 171.5,-40.1442 171.5,-31.4652\"/>\n",
       "<polygon fill=\"black\" stroke=\"black\" points=\"175,-31.3408 171.5,-21.3408 168,-31.3409 175,-31.3408\"/>\n",
       "</g>\n",
       "<!-- 139649544516856 -->\n",
       "<g id=\"node3\" class=\"node\"><title>139649544516856</title>\n",
       "<polygon fill=\"lightgrey\" stroke=\"black\" points=\"224,-135 119,-135 119,-114 224,-114 224,-135\"/>\n",
       "<text text-anchor=\"middle\" x=\"171.5\" y=\"-121.4\" font-family=\"Times,serif\" font-size=\"12.00\">AddBackward</text>\n",
       "</g>\n",
       "<!-- 139649544516856&#45;&gt;139649544517336 -->\n",
       "<g id=\"edge2\" class=\"edge\"><title>139649544516856&#45;&gt;139649544517336</title>\n",
       "<path fill=\"none\" stroke=\"black\" d=\"M171.5,-113.92C171.5,-106.908 171.5,-97.1442 171.5,-88.4652\"/>\n",
       "<polygon fill=\"black\" stroke=\"black\" points=\"175,-88.3408 171.5,-78.3408 168,-88.3409 175,-88.3408\"/>\n",
       "</g>\n",
       "<!-- 139651091831928 -->\n",
       "<g id=\"node4\" class=\"node\"><title>139651091831928</title>\n",
       "<polygon fill=\"lightgrey\" stroke=\"black\" points=\"163,-192 0,-192 0,-171 163,-171 163,-192\"/>\n",
       "<text text-anchor=\"middle\" x=\"81.5\" y=\"-178.4\" font-family=\"Times,serif\" font-size=\"12.00\">PowConstantBackward</text>\n",
       "</g>\n",
       "<!-- 139651091831928&#45;&gt;139649544516856 -->\n",
       "<g id=\"edge3\" class=\"edge\"><title>139651091831928&#45;&gt;139649544516856</title>\n",
       "<path fill=\"none\" stroke=\"black\" d=\"M97.1768,-170.92C110.901,-162.532 131.072,-150.206 146.938,-140.51\"/>\n",
       "<polygon fill=\"black\" stroke=\"black\" points=\"148.993,-143.356 155.701,-135.155 145.343,-137.383 148.993,-143.356\"/>\n",
       "</g>\n",
       "<!-- 139649402182680 -->\n",
       "<g id=\"node5\" class=\"node\"><title>139649402182680</title>\n",
       "<polygon fill=\"lightblue\" stroke=\"black\" points=\"234.5,-263 180.5,-263 180.5,-228 234.5,-228 234.5,-263\"/>\n",
       "<text text-anchor=\"middle\" x=\"207.5\" y=\"-235.4\" font-family=\"Times,serif\" font-size=\"12.00\"> (6)</text>\n",
       "</g>\n",
       "<!-- 139649402182680&#45;&gt;139651091831928 -->\n",
       "<g id=\"edge4\" class=\"edge\"><title>139649402182680&#45;&gt;139651091831928</title>\n",
       "<path fill=\"none\" stroke=\"black\" d=\"M180.47,-231.199C159.777,-221.017 131.297,-207.003 110.2,-196.622\"/>\n",
       "<polygon fill=\"black\" stroke=\"black\" points=\"111.598,-193.41 101.081,-192.135 108.508,-199.69 111.598,-193.41\"/>\n",
       "</g>\n",
       "<!-- 139649544516616 -->\n",
       "<g id=\"node7\" class=\"node\"><title>139649544516616</title>\n",
       "<polygon fill=\"lightgrey\" stroke=\"black\" points=\"342,-192 181,-192 181,-171 342,-171 342,-192\"/>\n",
       "<text text-anchor=\"middle\" x=\"261.5\" y=\"-178.4\" font-family=\"Times,serif\" font-size=\"12.00\">MulConstantBackward</text>\n",
       "</g>\n",
       "<!-- 139649402182680&#45;&gt;139649544516616 -->\n",
       "<g id=\"edge7\" class=\"edge\"><title>139649402182680&#45;&gt;139649544516616</title>\n",
       "<path fill=\"none\" stroke=\"black\" d=\"M221.971,-227.885C229.547,-219.187 238.814,-208.547 246.471,-199.756\"/>\n",
       "<polygon fill=\"black\" stroke=\"black\" points=\"249.282,-201.857 253.21,-192.018 244.003,-197.26 249.282,-201.857\"/>\n",
       "</g>\n",
       "<!-- 139649402548424 -->\n",
       "<g id=\"node6\" class=\"node\"><title>139649402548424</title>\n",
       "<polygon fill=\"orange\" stroke=\"black\" points=\"108.5,-256 54.5,-256 54.5,-235 108.5,-235 108.5,-256\"/>\n",
       "<text text-anchor=\"middle\" x=\"81.5\" y=\"-242.4\" font-family=\"Times,serif\" font-size=\"12.00\">(6)</text>\n",
       "</g>\n",
       "<!-- 139649402548424&#45;&gt;139651091831928 -->\n",
       "<g id=\"edge5\" class=\"edge\"><title>139649402548424&#45;&gt;139651091831928</title>\n",
       "<path fill=\"none\" stroke=\"black\" d=\"M81.5,-234.812C81.5,-226.218 81.5,-213.388 81.5,-202.585\"/>\n",
       "<polygon fill=\"black\" stroke=\"black\" points=\"85.0001,-202.324 81.5,-192.324 78.0001,-202.324 85.0001,-202.324\"/>\n",
       "</g>\n",
       "<!-- 139649544516616&#45;&gt;139649544516856 -->\n",
       "<g id=\"edge6\" class=\"edge\"><title>139649544516616&#45;&gt;139649544516856</title>\n",
       "<path fill=\"none\" stroke=\"black\" d=\"M245.823,-170.92C232.099,-162.532 211.928,-150.206 196.062,-140.51\"/>\n",
       "<polygon fill=\"black\" stroke=\"black\" points=\"197.657,-137.383 187.299,-135.155 194.007,-143.356 197.657,-137.383\"/>\n",
       "</g>\n",
       "</g>\n",
       "</svg>\n"
      ],
      "text/plain": [
       "<graphviz.dot.Digraph at 0x7f02a9022470>"
      ]
     },
     "execution_count": 130,
     "metadata": {},
     "output_type": "execute_result"
    }
   ],
   "source": [
    "make_dot(y)"
   ]
  },
  {
   "cell_type": "code",
   "execution_count": 131,
   "metadata": {},
   "outputs": [
    {
     "data": {
      "text/plain": [
       "Variable containing:\n",
       " 106\n",
       "[torch.FloatTensor of size 1]"
      ]
     },
     "execution_count": 131,
     "metadata": {},
     "output_type": "execute_result"
    }
   ],
   "source": [
    "y"
   ]
  },
  {
   "cell_type": "markdown",
   "metadata": {},
   "source": [
    "Compute gradients $\\frac{\\partial y}{\\partial x}$ for initial values of $x$. Analytical derivative of $y(x) = x^2 + 3 x + 1$ is $y' = 2 x + 3$"
   ]
  },
  {
   "cell_type": "code",
   "execution_count": 132,
   "metadata": {},
   "outputs": [],
   "source": [
    "y.backward()"
   ]
  },
  {
   "cell_type": "code",
   "execution_count": 133,
   "metadata": {},
   "outputs": [
    {
     "data": {
      "text/plain": [
       "array([  3.,   5.,   7.,   9.,  11.,  13.], dtype=float32)"
      ]
     },
     "execution_count": 133,
     "metadata": {},
     "output_type": "execute_result"
    }
   ],
   "source": [
    "x.grad.data.numpy()  # gradients dy/dx"
   ]
  },
  {
   "cell_type": "code",
   "execution_count": null,
   "metadata": {},
   "outputs": [],
   "source": []
  },
  {
   "cell_type": "markdown",
   "metadata": {},
   "source": [
    "### Toy minimization loss function example\n",
    "\n",
    "Let's consider a very basic minimization example: we have 2-dimensional $\\mathbf{x}$ samples and labels $y$, prediction model\n",
    "$$\n",
    "    y^{i}_{pred} = W \\cdot \\mathbf{x}_i,\n",
    "$$\n",
    "where $W=(w_1, w_2)$. \n",
    "\n",
    "Let's introduce Mean Square Error loss function as\n",
    "$$\n",
    "    loss = \\sum_i (y^i - y^i_{pred})^2\n",
    "$$\n",
    "\n",
    "Optimization procedure to find parameters $W$ that minimize the loss function is \n",
    "- Process input through the model\n",
    "- Compute the loss (how far is the output from being correct)\n",
    "- Propagate gradients back into the model’s parameters\n",
    "- Update the weights of the model, typically using a simple update rule: \n",
    "```\n",
    "W = W - learning_rate * gradient\n",
    "```\n",
    "\n",
    "References:\n",
    "- [understanding-how-torch-nn-module-works](https://discuss.pytorch.org/t/understanding-how-torch-nn-module-works/122/5)"
   ]
  },
  {
   "cell_type": "code",
   "execution_count": 4,
   "metadata": {},
   "outputs": [],
   "source": [
    "import matplotlib.pylab as plt\n",
    "%matplotlib inline"
   ]
  },
  {
   "cell_type": "code",
   "execution_count": 17,
   "metadata": {},
   "outputs": [],
   "source": [
    "x = Variable(torch.FloatTensor([[1.0, 1.0], \n",
    "                                 [1.0, 2.1], \n",
    "                                 [1.0, 3.6], \n",
    "                                 [1.0, 4.2], \n",
    "                                 [1.0, 6.0], \n",
    "                                 [1.0, 7.0]]))\n",
    "y = Variable(torch.FloatTensor([1.0, 2.1, 3.6, 4.2, 6.0, 7.0]))"
   ]
  },
  {
   "cell_type": "code",
   "execution_count": 18,
   "metadata": {},
   "outputs": [
    {
     "data": {
      "text/plain": [
       "(torch.Size([6, 2]), torch.Size([6]))"
      ]
     },
     "execution_count": 18,
     "metadata": {},
     "output_type": "execute_result"
    }
   ],
   "source": [
    "x.size(), y.size()"
   ]
  },
  {
   "cell_type": "code",
   "execution_count": 21,
   "metadata": {},
   "outputs": [
    {
     "data": {
      "text/plain": [
       "torch.Size([6])"
      ]
     },
     "execution_count": 21,
     "metadata": {},
     "output_type": "execute_result"
    }
   ],
   "source": [
    "weights = Variable(torch.zeros((2,\n",
    ")), requires_grad=True)\n",
    "net_output = x.mv(weights)\n",
    "make_dot(net_output)\n",
    "net_output.size()"
   ]
  },
  {
   "cell_type": "code",
   "execution_count": 290,
   "metadata": {},
   "outputs": [
    {
     "data": {
      "image/svg+xml": [
       "<?xml version=\"1.0\" encoding=\"UTF-8\" standalone=\"no\"?>\n",
       "<!DOCTYPE svg PUBLIC \"-//W3C//DTD SVG 1.1//EN\"\n",
       " \"http://www.w3.org/Graphics/SVG/1.1/DTD/svg11.dtd\">\n",
       "<!-- Generated by graphviz version 2.38.0 (20140413.2041)\n",
       " -->\n",
       "<!-- Title: %3 Pages: 1 -->\n",
       "<svg width=\"237pt\" height=\"271pt\"\n",
       " viewBox=\"0.00 0.00 236.50 271.00\" xmlns=\"http://www.w3.org/2000/svg\" xmlns:xlink=\"http://www.w3.org/1999/xlink\">\n",
       "<g id=\"graph0\" class=\"graph\" transform=\"scale(1 1) rotate(0) translate(4 267)\">\n",
       "<title>%3</title>\n",
       "<polygon fill=\"white\" stroke=\"none\" points=\"-4,4 -4,-267 232.5,-267 232.5,4 -4,4\"/>\n",
       "<!-- 139649400903384 -->\n",
       "<g id=\"node1\" class=\"node\"><title>139649400903384</title>\n",
       "<polygon fill=\"lightgrey\" stroke=\"black\" points=\"204.5,-21 89.5,-21 89.5,-0 204.5,-0 204.5,-21\"/>\n",
       "<text text-anchor=\"middle\" x=\"147\" y=\"-7.4\" font-family=\"Times,serif\" font-size=\"12.00\">MeanBackward</text>\n",
       "</g>\n",
       "<!-- 139649400901704 -->\n",
       "<g id=\"node2\" class=\"node\"><title>139649400901704</title>\n",
       "<polygon fill=\"lightgrey\" stroke=\"black\" points=\"228.5,-78 65.5,-78 65.5,-57 228.5,-57 228.5,-78\"/>\n",
       "<text text-anchor=\"middle\" x=\"147\" y=\"-64.4\" font-family=\"Times,serif\" font-size=\"12.00\">PowConstantBackward</text>\n",
       "</g>\n",
       "<!-- 139649400901704&#45;&gt;139649400903384 -->\n",
       "<g id=\"edge1\" class=\"edge\"><title>139649400901704&#45;&gt;139649400903384</title>\n",
       "<path fill=\"none\" stroke=\"black\" d=\"M147,-56.9197C147,-49.9083 147,-40.1442 147,-31.4652\"/>\n",
       "<polygon fill=\"black\" stroke=\"black\" points=\"150.5,-31.3408 147,-21.3408 143.5,-31.3409 150.5,-31.3408\"/>\n",
       "</g>\n",
       "<!-- 139649400904824 -->\n",
       "<g id=\"node3\" class=\"node\"><title>139649400904824</title>\n",
       "<polygon fill=\"lightgrey\" stroke=\"black\" points=\"151,-135 47,-135 47,-114 151,-114 151,-135\"/>\n",
       "<text text-anchor=\"middle\" x=\"99\" y=\"-121.4\" font-family=\"Times,serif\" font-size=\"12.00\">SubBackward</text>\n",
       "</g>\n",
       "<!-- 139649400904824&#45;&gt;139649400901704 -->\n",
       "<g id=\"edge2\" class=\"edge\"><title>139649400904824&#45;&gt;139649400901704</title>\n",
       "<path fill=\"none\" stroke=\"black\" d=\"M107.361,-113.92C114.092,-106.207 123.73,-95.1639 131.816,-85.8978\"/>\n",
       "<polygon fill=\"black\" stroke=\"black\" points=\"134.473,-88.1765 138.412,-78.3408 129.199,-83.5737 134.473,-88.1765\"/>\n",
       "</g>\n",
       "<!-- 139649400902904 -->\n",
       "<g id=\"node4\" class=\"node\"><title>139649400902904</title>\n",
       "<polygon fill=\"lightgrey\" stroke=\"black\" points=\"163,-192 35,-192 35,-171 163,-171 163,-192\"/>\n",
       "<text text-anchor=\"middle\" x=\"99\" y=\"-178.4\" font-family=\"Times,serif\" font-size=\"12.00\">AddmmBackward</text>\n",
       "</g>\n",
       "<!-- 139649400902904&#45;&gt;139649400904824 -->\n",
       "<g id=\"edge3\" class=\"edge\"><title>139649400902904&#45;&gt;139649400904824</title>\n",
       "<path fill=\"none\" stroke=\"black\" d=\"M99,-170.92C99,-163.908 99,-154.144 99,-145.465\"/>\n",
       "<polygon fill=\"black\" stroke=\"black\" points=\"102.5,-145.341 99,-135.341 95.5001,-145.341 102.5,-145.341\"/>\n",
       "</g>\n",
       "<!-- 139649683108024 -->\n",
       "<g id=\"node5\" class=\"node\"><title>139649683108024</title>\n",
       "<polygon fill=\"lightblue\" stroke=\"black\" points=\"54,-263 0,-263 0,-228 54,-228 54,-263\"/>\n",
       "<text text-anchor=\"middle\" x=\"27\" y=\"-235.4\" font-family=\"Times,serif\" font-size=\"12.00\"> (2, 1)</text>\n",
       "</g>\n",
       "<!-- 139649683108024&#45;&gt;139649400902904 -->\n",
       "<g id=\"edge4\" class=\"edge\"><title>139649683108024&#45;&gt;139649400902904</title>\n",
       "<path fill=\"none\" stroke=\"black\" d=\"M46.2947,-227.885C56.8125,-218.828 69.7748,-207.666 80.2125,-198.678\"/>\n",
       "<polygon fill=\"black\" stroke=\"black\" points=\"82.6532,-201.195 87.9471,-192.018 78.0856,-195.891 82.6532,-201.195\"/>\n",
       "</g>\n",
       "<!-- 139649683303624 -->\n",
       "<g id=\"node6\" class=\"node\"><title>139649683303624</title>\n",
       "<polygon fill=\"orange\" stroke=\"black\" points=\"126,-256 72,-256 72,-235 126,-235 126,-256\"/>\n",
       "<text text-anchor=\"middle\" x=\"99\" y=\"-242.4\" font-family=\"Times,serif\" font-size=\"12.00\">(6, 2)</text>\n",
       "</g>\n",
       "<!-- 139649683303624&#45;&gt;139649400902904 -->\n",
       "<g id=\"edge5\" class=\"edge\"><title>139649683303624&#45;&gt;139649400902904</title>\n",
       "<path fill=\"none\" stroke=\"black\" d=\"M99,-234.812C99,-226.218 99,-213.388 99,-202.585\"/>\n",
       "<polygon fill=\"black\" stroke=\"black\" points=\"102.5,-202.324 99,-192.324 95.5001,-202.324 102.5,-202.324\"/>\n",
       "</g>\n",
       "<!-- 139649683300808 -->\n",
       "<g id=\"node7\" class=\"node\"><title>139649683300808</title>\n",
       "<polygon fill=\"orange\" stroke=\"black\" points=\"198,-256 144,-256 144,-235 198,-235 198,-256\"/>\n",
       "<text text-anchor=\"middle\" x=\"171\" y=\"-242.4\" font-family=\"Times,serif\" font-size=\"12.00\">(2, 1)</text>\n",
       "</g>\n",
       "<!-- 139649683300808&#45;&gt;139649400902904 -->\n",
       "<g id=\"edge6\" class=\"edge\"><title>139649683300808&#45;&gt;139649400902904</title>\n",
       "<path fill=\"none\" stroke=\"black\" d=\"M159.75,-234.812C148.614,-225.223 131.354,-210.36 118.073,-198.924\"/>\n",
       "<polygon fill=\"black\" stroke=\"black\" points=\"120.27,-196.197 110.409,-192.324 115.702,-201.502 120.27,-196.197\"/>\n",
       "</g>\n",
       "<!-- 139649347132360 -->\n",
       "<g id=\"node8\" class=\"node\"><title>139649347132360</title>\n",
       "<polygon fill=\"orange\" stroke=\"black\" points=\"223,-135 169,-135 169,-114 223,-114 223,-135\"/>\n",
       "<text text-anchor=\"middle\" x=\"196\" y=\"-121.4\" font-family=\"Times,serif\" font-size=\"12.00\">(6, 6)</text>\n",
       "</g>\n",
       "<!-- 139649347132360&#45;&gt;139649400901704 -->\n",
       "<g id=\"edge7\" class=\"edge\"><title>139649347132360&#45;&gt;139649400901704</title>\n",
       "<path fill=\"none\" stroke=\"black\" d=\"M187.465,-113.92C180.594,-106.207 170.755,-95.1639 162.5,-85.8978\"/>\n",
       "<polygon fill=\"black\" stroke=\"black\" points=\"165.033,-83.4792 155.767,-78.3408 159.806,-88.1357 165.033,-83.4792\"/>\n",
       "</g>\n",
       "</g>\n",
       "</svg>\n"
      ],
      "text/plain": [
       "<graphviz.dot.Digraph at 0x7f02b9c13320>"
      ]
     },
     "execution_count": 290,
     "metadata": {},
     "output_type": "execute_result"
    }
   ],
   "source": [
    "loss = torch.mean((net_output - y)**2)\n",
    "make_dot(loss)"
   ]
  },
  {
   "cell_type": "markdown",
   "metadata": {},
   "source": [
    "Let's manually perform this procedure:"
   ]
  },
  {
   "cell_type": "code",
   "execution_count": 23,
   "metadata": {},
   "outputs": [
    {
     "name": "stdout",
     "output_type": "stream",
     "text": [
      "n_iter 499\n",
      "0.31197017431259155 0.31197020411491394\n",
      "y_pred:  Variable containing:\n",
      " 1.0087\n",
      " 1.9375\n",
      " 3.2039\n",
      " 3.7105\n",
      " 5.2303\n",
      " 6.0746\n",
      "[torch.FloatTensor of size 6]\n",
      "\n",
      "Weights :  Variable containing:\n",
      " 0.1645\n",
      " 0.8448\n",
      "[torch.FloatTensor of size 2]\n",
      "\n"
     ]
    },
    {
     "data": {
      "image/png": "[encoded data removed]",
      "text/plain": [
       "<matplotlib.figure.Figure at 0x7f3bf1b59a90>"
      ]
     },
     "metadata": {},
     "output_type": "display_data"
    }
   ],
   "source": [
    "mse_loss = nn.MSELoss()\n",
    "weights = Variable(torch.zeros((2,)).float(), requires_grad=True)\n",
    "\n",
    "n = 500\n",
    "loss1 = []\n",
    "loss2 = []\n",
    "weights_grads_history = np.zeros((n, 2))\n",
    "weights_history = np.zeros((n, 2))\n",
    "learning_rate = 0.0001\n",
    "\n",
    "for i in range(n):\n",
    "\n",
    "    y_pred = x.mv(weights)\n",
    "    loss = torch.mean((y - y_pred)**2.0)\n",
    "    loss_ = mse_loss(y_pred, y)    \n",
    "    loss1.append(loss.data[0])\n",
    "    loss2.append(loss_.data[0])\n",
    "    # Compute gradients\n",
    "    loss.backward()\n",
    "    \n",
    "    # Update parameters\n",
    "    weights_grads_history[i, :] = weights.grad.data.numpy()\n",
    "    weights_history[i, :] = weights.data.numpy()\n",
    "    weights.data.sub_(weights.grad.data * learning_rate)\n",
    "\n",
    "    # You need to clear the existing gradients though, else gradients will be accumulated to existing gradients         \n",
    "    weights.grad.data.zero_()\n",
    "\n",
    "    \n",
    "print(\"n_iter\", i)\n",
    "print(loss1[-1], loss2[-1])\n",
    "print(\"y_pred: \", y_pred)\n",
    "print(\"Weights : \", weights)\n",
    "\n",
    "plt.figure(figsize=(12, 4))\n",
    "plt.subplot(131)\n",
    "plt.plot(range(n), loss1, label='loss1')\n",
    "plt.plot(range(n), loss2, label='loss2')\n",
    "_ = plt.legend()\n",
    "plt.subplot(132)\n",
    "plt.plot(range(n), weights_grads_history[:, 0], label='W_grad_1')\n",
    "plt.plot(range(n), weights_grads_history[:, 1], label='W_grad_2')\n",
    "plt.legend()\n",
    "plt.subplot(133)\n",
    "plt.plot(range(n), weights_history[:, 0], label='W_1')\n",
    "plt.plot(range(n), weights_history[:, 1], label='W_2')\n",
    "_ = plt.legend()"
   ]
  },
  {
   "cell_type": "markdown",
   "metadata": {},
   "source": [
    "Now let's perform the optimization with PyTorch tools:\n",
    "\n",
    "- Neural network module\n",
    "- Mean Square Error loss function\n",
    "- SGD optimizer"
   ]
  },
  {
   "cell_type": "code",
   "execution_count": 15,
   "metadata": {},
   "outputs": [],
   "source": [
    "from torch import nn\n",
    "from torch import optim\n",
    "\n",
    "class ToyModel(nn.Module):\n",
    "    def __init__(self):\n",
    "        super(ToyModel, self).__init__()\n",
    "        self.weights = nn.Parameter(torch.zeros((2, 1)))\n",
    "        \n",
    "    def forward(self, x):\n",
    "        return x.mm(self.weights)\n",
    "        \n",
    "toy = ToyModel()\n",
    "mse_loss = nn.MSELoss()"
   ]
  },
  {
   "cell_type": "code",
   "execution_count": 210,
   "metadata": {},
   "outputs": [
    {
     "data": {
      "image/svg+xml": [
       "<?xml version=\"1.0\" encoding=\"UTF-8\" standalone=\"no\"?>\n",
       "<!DOCTYPE svg PUBLIC \"-//W3C//DTD SVG 1.1//EN\"\n",
       " \"http://www.w3.org/Graphics/SVG/1.1/DTD/svg11.dtd\">\n",
       "<!-- Generated by graphviz version 2.38.0 (20140413.2041)\n",
       " -->\n",
       "<!-- Title: %3 Pages: 1 -->\n",
       "<svg width=\"206pt\" height=\"100pt\"\n",
       " viewBox=\"0.00 0.00 206.00 100.00\" xmlns=\"http://www.w3.org/2000/svg\" xmlns:xlink=\"http://www.w3.org/1999/xlink\">\n",
       "<g id=\"graph0\" class=\"graph\" transform=\"scale(1 1) rotate(0) translate(4 96)\">\n",
       "<title>%3</title>\n",
       "<polygon fill=\"white\" stroke=\"none\" points=\"-4,4 -4,-96 202,-96 202,4 -4,4\"/>\n",
       "<!-- 139649400903144 -->\n",
       "<g id=\"node1\" class=\"node\"><title>139649400903144</title>\n",
       "<polygon fill=\"lightgrey\" stroke=\"black\" points=\"163,-21 35,-21 35,-0 163,-0 163,-21\"/>\n",
       "<text text-anchor=\"middle\" x=\"99\" y=\"-7.4\" font-family=\"Times,serif\" font-size=\"12.00\">AddmmBackward</text>\n",
       "</g>\n",
       "<!-- 139649371135672 -->\n",
       "<g id=\"node2\" class=\"node\"><title>139649371135672</title>\n",
       "<polygon fill=\"lightblue\" stroke=\"black\" points=\"54,-92 0,-92 0,-57 54,-57 54,-92\"/>\n",
       "<text text-anchor=\"middle\" x=\"27\" y=\"-64.4\" font-family=\"Times,serif\" font-size=\"12.00\"> (2, 1)</text>\n",
       "</g>\n",
       "<!-- 139649371135672&#45;&gt;139649400903144 -->\n",
       "<g id=\"edge1\" class=\"edge\"><title>139649371135672&#45;&gt;139649400903144</title>\n",
       "<path fill=\"none\" stroke=\"black\" d=\"M46.2947,-56.8851C56.8125,-47.8281 69.7748,-36.6661 80.2125,-27.6781\"/>\n",
       "<polygon fill=\"black\" stroke=\"black\" points=\"82.6532,-30.1952 87.9471,-21.0178 78.0856,-24.8908 82.6532,-30.1952\"/>\n",
       "</g>\n",
       "<!-- 139649663057800 -->\n",
       "<g id=\"node3\" class=\"node\"><title>139649663057800</title>\n",
       "<polygon fill=\"orange\" stroke=\"black\" points=\"126,-85 72,-85 72,-64 126,-64 126,-85\"/>\n",
       "<text text-anchor=\"middle\" x=\"99\" y=\"-71.4\" font-family=\"Times,serif\" font-size=\"12.00\">(6, 2)</text>\n",
       "</g>\n",
       "<!-- 139649663057800&#45;&gt;139649400903144 -->\n",
       "<g id=\"edge2\" class=\"edge\"><title>139649663057800&#45;&gt;139649400903144</title>\n",
       "<path fill=\"none\" stroke=\"black\" d=\"M99,-63.8125C99,-55.2183 99,-42.3883 99,-31.5855\"/>\n",
       "<polygon fill=\"black\" stroke=\"black\" points=\"102.5,-31.3241 99,-21.3241 95.5001,-31.3241 102.5,-31.3241\"/>\n",
       "</g>\n",
       "<!-- 139649662661512 -->\n",
       "<g id=\"node4\" class=\"node\"><title>139649662661512</title>\n",
       "<polygon fill=\"orange\" stroke=\"black\" points=\"198,-85 144,-85 144,-64 198,-64 198,-85\"/>\n",
       "<text text-anchor=\"middle\" x=\"171\" y=\"-71.4\" font-family=\"Times,serif\" font-size=\"12.00\">(2, 1)</text>\n",
       "</g>\n",
       "<!-- 139649662661512&#45;&gt;139649400903144 -->\n",
       "<g id=\"edge3\" class=\"edge\"><title>139649662661512&#45;&gt;139649400903144</title>\n",
       "<path fill=\"none\" stroke=\"black\" d=\"M159.75,-63.8125C148.614,-54.2232 131.354,-39.3604 118.073,-27.9242\"/>\n",
       "<polygon fill=\"black\" stroke=\"black\" points=\"120.27,-25.1972 110.409,-21.3241 115.702,-30.5015 120.27,-25.1972\"/>\n",
       "</g>\n",
       "</g>\n",
       "</svg>\n"
      ],
      "text/plain": [
       "<graphviz.dot.Digraph at 0x7f02a728dd68>"
      ]
     },
     "execution_count": 210,
     "metadata": {},
     "output_type": "execute_result"
    }
   ],
   "source": [
    "output = toy(x)\n",
    "make_dot(output)"
   ]
  },
  {
   "cell_type": "code",
   "execution_count": 211,
   "metadata": {},
   "outputs": [
    {
     "data": {
      "image/svg+xml": [
       "<?xml version=\"1.0\" encoding=\"UTF-8\" standalone=\"no\"?>\n",
       "<!DOCTYPE svg PUBLIC \"-//W3C//DTD SVG 1.1//EN\"\n",
       " \"http://www.w3.org/Graphics/SVG/1.1/DTD/svg11.dtd\">\n",
       "<!-- Generated by graphviz version 2.38.0 (20140413.2041)\n",
       " -->\n",
       "<!-- Title: %3 Pages: 1 -->\n",
       "<svg width=\"315pt\" height=\"157pt\"\n",
       " viewBox=\"0.00 0.00 315.00 157.00\" xmlns=\"http://www.w3.org/2000/svg\" xmlns:xlink=\"http://www.w3.org/1999/xlink\">\n",
       "<g id=\"graph0\" class=\"graph\" transform=\"scale(1 1) rotate(0) translate(4 153)\">\n",
       "<title>%3</title>\n",
       "<polygon fill=\"white\" stroke=\"none\" points=\"-4,4 -4,-153 311,-153 311,4 -4,4\"/>\n",
       "<!-- 139649400903384 -->\n",
       "<g id=\"node1\" class=\"node\"><title>139649400903384</title>\n",
       "<polygon fill=\"lightgrey\" stroke=\"black\" points=\"276.5,-21 139.5,-21 139.5,-0 276.5,-0 276.5,-21\"/>\n",
       "<text text-anchor=\"middle\" x=\"208\" y=\"-7.4\" font-family=\"Times,serif\" font-size=\"12.00\">MSELossBackward</text>\n",
       "</g>\n",
       "<!-- 139649400903144 -->\n",
       "<g id=\"node2\" class=\"node\"><title>139649400903144</title>\n",
       "<polygon fill=\"lightgrey\" stroke=\"black\" points=\"163,-78 35,-78 35,-57 163,-57 163,-78\"/>\n",
       "<text text-anchor=\"middle\" x=\"99\" y=\"-64.4\" font-family=\"Times,serif\" font-size=\"12.00\">AddmmBackward</text>\n",
       "</g>\n",
       "<!-- 139649400903144&#45;&gt;139649400903384 -->\n",
       "<g id=\"edge1\" class=\"edge\"><title>139649400903144&#45;&gt;139649400903384</title>\n",
       "<path fill=\"none\" stroke=\"black\" d=\"M117.986,-56.9197C135.074,-48.2973 160.413,-35.512 179.856,-25.7011\"/>\n",
       "<polygon fill=\"black\" stroke=\"black\" points=\"181.514,-28.7847 188.865,-21.155 178.361,-22.5352 181.514,-28.7847\"/>\n",
       "</g>\n",
       "<!-- 139649371135672 -->\n",
       "<g id=\"node3\" class=\"node\"><title>139649371135672</title>\n",
       "<polygon fill=\"lightblue\" stroke=\"black\" points=\"54,-149 0,-149 0,-114 54,-114 54,-149\"/>\n",
       "<text text-anchor=\"middle\" x=\"27\" y=\"-121.4\" font-family=\"Times,serif\" font-size=\"12.00\"> (2, 1)</text>\n",
       "</g>\n",
       "<!-- 139649371135672&#45;&gt;139649400903144 -->\n",
       "<g id=\"edge2\" class=\"edge\"><title>139649371135672&#45;&gt;139649400903144</title>\n",
       "<path fill=\"none\" stroke=\"black\" d=\"M46.2947,-113.885C56.8125,-104.828 69.7748,-93.6661 80.2125,-84.6781\"/>\n",
       "<polygon fill=\"black\" stroke=\"black\" points=\"82.6532,-87.1952 87.9471,-78.0178 78.0856,-81.8908 82.6532,-87.1952\"/>\n",
       "</g>\n",
       "<!-- 139649369099784 -->\n",
       "<g id=\"node4\" class=\"node\"><title>139649369099784</title>\n",
       "<polygon fill=\"orange\" stroke=\"black\" points=\"126,-142 72,-142 72,-121 126,-121 126,-142\"/>\n",
       "<text text-anchor=\"middle\" x=\"99\" y=\"-128.4\" font-family=\"Times,serif\" font-size=\"12.00\">(6, 2)</text>\n",
       "</g>\n",
       "<!-- 139649369099784&#45;&gt;139649400903144 -->\n",
       "<g id=\"edge3\" class=\"edge\"><title>139649369099784&#45;&gt;139649400903144</title>\n",
       "<path fill=\"none\" stroke=\"black\" d=\"M99,-120.812C99,-112.218 99,-99.3883 99,-88.5855\"/>\n",
       "<polygon fill=\"black\" stroke=\"black\" points=\"102.5,-88.3241 99,-78.3241 95.5001,-88.3241 102.5,-88.3241\"/>\n",
       "</g>\n",
       "<!-- 139649369795976 -->\n",
       "<g id=\"node5\" class=\"node\"><title>139649369795976</title>\n",
       "<polygon fill=\"orange\" stroke=\"black\" points=\"198,-142 144,-142 144,-121 198,-121 198,-142\"/>\n",
       "<text text-anchor=\"middle\" x=\"171\" y=\"-128.4\" font-family=\"Times,serif\" font-size=\"12.00\">(2, 1)</text>\n",
       "</g>\n",
       "<!-- 139649369795976&#45;&gt;139649400903144 -->\n",
       "<g id=\"edge4\" class=\"edge\"><title>139649369795976&#45;&gt;139649400903144</title>\n",
       "<path fill=\"none\" stroke=\"black\" d=\"M159.75,-120.812C148.614,-111.223 131.354,-96.3604 118.073,-84.9242\"/>\n",
       "<polygon fill=\"black\" stroke=\"black\" points=\"120.27,-82.1972 110.409,-78.3241 115.702,-87.5015 120.27,-82.1972\"/>\n",
       "</g>\n",
       "<!-- 139649369794824 -->\n",
       "<g id=\"node6\" class=\"node\"><title>139649369794824</title>\n",
       "<polygon fill=\"orange\" stroke=\"black\" points=\"235,-78 181,-78 181,-57 235,-57 235,-78\"/>\n",
       "<text text-anchor=\"middle\" x=\"208\" y=\"-64.4\" font-family=\"Times,serif\" font-size=\"12.00\">(6, 1)</text>\n",
       "</g>\n",
       "<!-- 139649369794824&#45;&gt;139649400903384 -->\n",
       "<g id=\"edge5\" class=\"edge\"><title>139649369794824&#45;&gt;139649400903384</title>\n",
       "<path fill=\"none\" stroke=\"black\" d=\"M208,-56.9197C208,-49.9083 208,-40.1442 208,-31.4652\"/>\n",
       "<polygon fill=\"black\" stroke=\"black\" points=\"211.5,-31.3408 208,-21.3408 204.5,-31.3409 211.5,-31.3408\"/>\n",
       "</g>\n",
       "<!-- 139649369809416 -->\n",
       "<g id=\"node7\" class=\"node\"><title>139649369809416</title>\n",
       "<polygon fill=\"orange\" stroke=\"black\" points=\"307,-78 253,-78 253,-57 307,-57 307,-78\"/>\n",
       "<text text-anchor=\"middle\" x=\"280\" y=\"-64.4\" font-family=\"Times,serif\" font-size=\"12.00\">(6)</text>\n",
       "</g>\n",
       "<!-- 139649369809416&#45;&gt;139649400903384 -->\n",
       "<g id=\"edge6\" class=\"edge\"><title>139649369809416&#45;&gt;139649400903384</title>\n",
       "<path fill=\"none\" stroke=\"black\" d=\"M267.459,-56.9197C256.852,-48.8177 241.434,-37.0399 228.956,-27.5082\"/>\n",
       "<polygon fill=\"black\" stroke=\"black\" points=\"230.954,-24.6299 220.883,-21.3408 226.705,-30.1926 230.954,-24.6299\"/>\n",
       "</g>\n",
       "</g>\n",
       "</svg>\n"
      ],
      "text/plain": [
       "<graphviz.dot.Digraph at 0x7f02a728e0b8>"
      ]
     },
     "execution_count": 211,
     "metadata": {},
     "output_type": "execute_result"
    }
   ],
   "source": [
    "loss = mse_loss(output, y)\n",
    "make_dot(loss)"
   ]
  },
  {
   "cell_type": "code",
   "execution_count": 201,
   "metadata": {},
   "outputs": [
    {
     "name": "stdout",
     "output_type": "stream",
     "text": [
      "n_iter 499\n",
      "0.31197020411491394\n",
      "Net output:  Variable containing:\n",
      " 1.0087\n",
      " 1.9375\n",
      " 3.2039\n",
      " 3.7105\n",
      " 5.2303\n",
      " 6.0746\n",
      "[torch.FloatTensor of size 6x1]\n",
      "\n",
      "Weights :  Parameter containing:\n",
      " 0.1645\n",
      " 0.8448\n",
      "[torch.FloatTensor of size 2x1]\n",
      "\n"
     ]
    },
    {
     "data": {
      "text/plain": [
       "<matplotlib.legend.Legend at 0x7f02ba7689b0>"
      ]
     },
     "execution_count": 201,
     "metadata": {},
     "output_type": "execute_result"
    },
    {
     "data": {
      "image/png": "[encoded data removed]",
      "text/plain": [
       "<matplotlib.figure.Figure at 0x7f02a7ab7a58>"
      ]
     },
     "metadata": {},
     "output_type": "display_data"
    }
   ],
   "source": [
    "n = 500\n",
    "loss1 = []\n",
    "weights_grads_history = np.zeros((n, 2))\n",
    "weights_history = np.zeros((n, 2))\n",
    "learning_rate = 0.0001\n",
    "\n",
    "for i in range(n):\n",
    "    # You need to clear the existing gradients though, else gradients will be accumulated to existing gradients     \n",
    "    toy.zero_grad()\n",
    "\n",
    "    y_pred = toy(x)    \n",
    "    loss = mse_loss(y_pred, y)\n",
    "    # To backpropagate the error all we have to do is to loss.backward(). \n",
    "    loss.backward()\n",
    "\n",
    "    loss1.append(loss.data[0])\n",
    "    \n",
    "    # Update parameters:\n",
    "    for f in toy.parameters():\n",
    "        weights_grads_history[i, :] = f.grad.data.numpy()[:, 0]\n",
    "        weights_history[i, :] = f.data.numpy()[:, 0]\n",
    "        f.data.sub_(f.grad.data * learning_rate)\n",
    "        \n",
    "\n",
    "print(\"n_iter\", i)\n",
    "print(loss1[-1])\n",
    "print(\"y_pred: \", y_pred)\n",
    "print(\"Weights : \", toy.weights)\n",
    "\n",
    "\n",
    "plt.subplot(131)\n",
    "plt.plot(range(n), loss1, label='loss')\n",
    "plt.subplot(132)\n",
    "plt.plot(range(n), weights_grads_history[:, 0], label='W_grad_1')\n",
    "plt.plot(range(n), weights_grads_history[:, 1], label='W_grad_2')\n",
    "plt.legend()\n",
    "plt.subplot(133)\n",
    "plt.plot(range(n), weights_history[:, 0], label='W_1')\n",
    "plt.plot(range(n), weights_history[:, 1], label='W_2')\n",
    "plt.legend()"
   ]
  },
  {
   "cell_type": "markdown",
   "metadata": {},
   "source": [
    "Now let's introduce `optim.SGD`\n"
   ]
  },
  {
   "cell_type": "code",
   "execution_count": 317,
   "metadata": {},
   "outputs": [],
   "source": [
    "toy = ToyModel()\n",
    "mse_loss = nn.MSELoss()\n",
    "\n",
    "# create your optimizer\n",
    "optimizer = optim.SGD(toy.parameters(), lr=0.001)"
   ]
  },
  {
   "cell_type": "code",
   "execution_count": 318,
   "metadata": {},
   "outputs": [
    {
     "name": "stdout",
     "output_type": "stream",
     "text": [
      "n_iter 499\n",
      "0.005215894430875778\n",
      "y_pred:  Variable containing:\n",
      " 1.1252\n",
      " 2.1908\n",
      " 3.6440\n",
      " 4.2253\n",
      " 5.9692\n",
      " 6.9380\n",
      "[torch.FloatTensor of size 6x1]\n",
      "\n",
      "Weights :  Parameter containing:\n",
      " 0.1563\n",
      " 0.9688\n",
      "[torch.FloatTensor of size 2x1]\n",
      "\n"
     ]
    },
    {
     "data": {
      "text/plain": [
       "<matplotlib.legend.Legend at 0x7f02a509f320>"
      ]
     },
     "execution_count": 318,
     "metadata": {},
     "output_type": "execute_result"
    },
    {
     "data": {
      "image/png": "[encoded data removed]",
      "text/plain": [
       "<matplotlib.figure.Figure at 0x7f02a51713c8>"
      ]
     },
     "metadata": {},
     "output_type": "display_data"
    }
   ],
   "source": [
    "n = 500\n",
    "loss1 = []\n",
    "weights_grads_history = np.zeros((n, 2))\n",
    "weights_history = np.zeros((n, 2))\n",
    "\n",
    "for i in range(n):\n",
    "    # You need to clear the existing gradients though, else gradients will be accumulated to existing gradients     \n",
    "    optimizer.zero_grad()\n",
    "\n",
    "    y_pred = toy(x)    \n",
    "    loss = mse_loss(y_pred, y)\n",
    "    # To backpropagate the error all we have to do is to loss.backward(). \n",
    "    loss.backward()\n",
    "\n",
    "    loss1.append(loss.data[0])\n",
    "    \n",
    "    for f in toy.parameters():\n",
    "        weights_grads_history[i, :] = f.grad.data.numpy()[:, 0]\n",
    "        weights_history[i, :] = f.data.numpy()[:, 0]\n",
    "\n",
    "    # Update parameters:\n",
    "    optimizer.step()\n",
    "\n",
    "print(\"n_iter\", i)\n",
    "print(loss1[-1])\n",
    "print(\"y_pred: \", y_pred)\n",
    "print(\"Weights : \", toy.weights)\n",
    "\n",
    "\n",
    "plt.subplot(131)\n",
    "plt.plot(range(n), loss1, label='loss')\n",
    "plt.subplot(132)\n",
    "plt.plot(range(n), weights_grads_history[:, 0], label='W_grad_1')\n",
    "plt.plot(range(n), weights_grads_history[:, 1], label='W_grad_2')\n",
    "plt.legend()\n",
    "plt.subplot(133)\n",
    "plt.plot(range(n), weights_history[:, 0], label='W_1')\n",
    "plt.plot(range(n), weights_history[:, 1], label='W_2')\n",
    "plt.legend()"
   ]
  },
  {
   "cell_type": "code",
   "execution_count": null,
   "metadata": {},
   "outputs": [],
   "source": []
  },
  {
   "cell_type": "markdown",
   "metadata": {},
   "source": [
    "## Neural networks\n",
    "\n",
    "Modules `torch.nn` and `torch.nn.Module`\n",
    "\n",
    "\n",
    "### Network architecture definition\n",
    "\n",
    "\n",
    "Let's see how to create a convnet architecture:\n",
    "```\n",
    "gray scale  -- [Conv2D | Relu] -- [MaxPooling] -> [Conv2D | Relu] -- [MaxPooling] -> [Flatten] --\n",
    "image input                             [FullyConnected | Relu] -- \n",
    "                                        [FullyConnected | Relu] -- \n",
    "                                        [FullyConnected ] -- output\n",
    "\n",
    "```\n",
    "\n",
    "Tensor channel order convention is `nSamples x nChannels x Height x Width`.\n"
   ]
  },
  {
   "cell_type": "code",
   "execution_count": 323,
   "metadata": {},
   "outputs": [],
   "source": [
    "import torch.nn as nn\n",
    "import torch.nn.functional as F\n",
    "\n",
    "class Net(nn.Module):\n",
    "    \n",
    "    def __init__(self, input_size=(3, 32, 32)):\n",
    "        super(Net, self).__init__()\n",
    "        # Here we define network submodules\n",
    "        # Submodules assigned in this way will be registered, and will have their\n",
    "        # parameters converted too when you call .cuda(), etc.\n",
    "        self.conv1 = nn.Conv2d(in_channels=1, out_channels=6, kernel_size=5, padding=0)\n",
    "        self.conv2 = nn.Conv2d(in_channels=6, out_channels=16, kernel_size=5, padding=0)\n",
    "        \n",
    "        # As we have flatten before the first fully-connected layer\n",
    "        # we need to compute input number of features:\n",
    "        # 16 channels (output from conv2) x feature map width x feature map height\n",
    "        self._fc1_in_features = int(16 * (((input_size[1] - 4) / 2 - 4) / 2) * (((input_size[2] - 4) / 2 - 4) / 2))\n",
    "        \n",
    "        self.fc1 = nn.Linear(in_features=self._fc1_in_features, out_features=120)\n",
    "        self.fc2 = nn.Linear(in_features=120, out_features=84)\n",
    "        self.fc3 = nn.Linear(in_features=84, out_features=10)\n",
    "            \n",
    "    def forward(self, x):\n",
    "        # Here we define network architecture\n",
    "        # input  -- [Conv2D | Relu] -- [MaxPooling] ->\n",
    "        x = self.conv1(x)\n",
    "        x = F.relu(x)\n",
    "        x = F.max_pool2d(x, kernel_size=(2, 2))\n",
    "\n",
    "        #  -- [Conv2D | Relu] -- [MaxPooling] ->\n",
    "        x = self.conv2(x)\n",
    "        x = F.relu(x)\n",
    "        x = F.max_pool2d(x, kernel_size=(2, 2)) # kernel_size can be defined also as kernel_size=2\n",
    "        \n",
    "        # Flatten\n",
    "        \n",
    "        x = x.view(-1, self._fc1_in_features)\n",
    "        \n",
    "        # [FullyConnected | Relu] -- [FullyConnected | Relu] -- [FullyConnected ] --\n",
    "        x = F.relu(self.fc1(x))\n",
    "        x = F.relu(self.fc2(x))\n",
    "        x = Fself.fc3(x)\n",
    "        \n",
    "        return x       "
   ]
  },
  {
   "cell_type": "code",
   "execution_count": 324,
   "metadata": {},
   "outputs": [
    {
     "name": "stdout",
     "output_type": "stream",
     "text": [
      "Net (\n",
      "  (conv1): Conv2d(1, 6, kernel_size=(5, 5), stride=(1, 1))\n",
      "  (conv2): Conv2d(6, 16, kernel_size=(5, 5), stride=(1, 1))\n",
      "  (fc1): Linear (400 -> 120)\n",
      "  (fc2): Linear (120 -> 84)\n",
      "  (fc3): Linear (84 -> 10)\n",
      ")\n",
      "150\n",
      "6\n",
      "2400\n",
      "16\n",
      "48000\n",
      "120\n",
      "10080\n",
      "84\n",
      "840\n",
      "10\n",
      "Total number of parameters : 61706\n"
     ]
    }
   ],
   "source": [
    "convnet = Net()\n",
    "print(convnet)\n",
    "params = list(convnet.parameters())\n",
    "n_params = 0\n",
    "for p in params:\n",
    "    n = np.prod(p.size())\n",
    "    print(n)\n",
    "    n_params += n\n",
    "print(\"Total number of parameters : %i\" % n_params)"
   ]
  },
  {
   "cell_type": "code",
   "execution_count": null,
   "metadata": {},
   "outputs": [],
   "source": []
  }
 ],
 "metadata": {
  "kernelspec": {
   "display_name": "Python 3",
   "language": "python",
   "name": "python3"
  },
  "language_info": {
   "codemirror_mode": {
    "name": "ipython",
    "version": 3
   },
   "file_extension": ".py",
   "mimetype": "text/x-python",
   "name": "python",
   "nbconvert_exporter": "python",
   "pygments_lexer": "ipython3",
   "version": "3.5.2"
  }
 },
 "nbformat": 4,
 "nbformat_minor": 2
}
