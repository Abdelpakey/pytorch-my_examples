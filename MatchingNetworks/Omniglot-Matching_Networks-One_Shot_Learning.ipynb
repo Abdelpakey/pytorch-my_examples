{
 "cells": [
  {
   "cell_type": "markdown",
   "metadata": {},
   "source": [
    "# Matching networks, *one-shot learning* on Omniglot dataset\n",
    "\n",
    "- Learning from few examples\n",
    "- Model architecture : *differentiable nearest neighbor++*\n",
    "- Training strategy : one-shot learning from a support set\n",
    "\n",
    "**Core idea: \"Lets train a fully end-to-end nearest neighbor classifer!\"**\n",
    "\n",
    "- CNN helps to encode images to continuous vectors\n",
    "\n",
    "\n",
    "### Dataset splitting\n",
    "\n",
    "$$\n",
    "\\text{Dataset} \\rightarrow \\text{Train/Val} \\, / \\, \\text{Test} \\\\\n",
    "\\text{Train/Val} \\rightarrow (X, Y) + (X', Y') : Y \\cap Y' = 0 \\\\ \n",
    "$$\n",
    "\n",
    "No intersection between labels $Y$ and $Y'$. Dataset $(X', Y')$ is for one-shot learning.\n",
    "\n",
    "- N-way, k shot : number of labels in $Y'$ is $N$ and for each label $y'$ from $Y'$, number of $x' \\in X' : x' \\leftrightarrow y'$ equals k.\n",
    "\n",
    "### Model\n",
    "\n",
    "The output $\\hat{y}$ for a test example $\\hat{x}$ is computed very similar to the Nearest Neighbors:\n",
    "$$\n",
    "\\hat{y} = \\sum_{x_i, y_i \\in S} a(\\hat{x}, x_i) y_i\n",
    "$$\n",
    "where $S$ is a supporting set sampled from training samples $X', Y'$. \n",
    "\n",
    "#### CNN as embedding functions\n",
    "\n",
    "\n",
    "### Training \n",
    "\n",
    "- Sample from $X', Y'$ a supporting set $S$ and batch of $x_i$ samples $B$.\n",
    "- \n",
    "\n",
    "\n",
    "The N-way Omniglot task setup is as follows: pick $N$ unseen character classes, independent of alphabet, as $L$. Provide the model with one drawing of each of the $N$ characters as $S∼L$ and a batch $B∼L$.\n",
    "\n",
    "\n",
    "\n",
    "\n",
    "\n",
    "\n",
    "\n",
    "References:\n",
    "- [Matching Networks for One Shot Learning](https://arxiv.org/pdf/1606.04080.pdf)\n",
    "- [github implementation 1](https://github.com/zergylord/oneshot)\n",
    "- [github implementation 2](https://github.com/AntreasAntoniou/MatchingNetworks)\n",
    "- [omniglot](https://github.com/brendenlake/omniglot)\n",
    "- [karpathy notes](https://github.com/karpathy/paper-notes/blob/master/matching_networks.md)"
   ]
  },
  {
   "cell_type": "code",
   "execution_count": 96,
   "metadata": {},
   "outputs": [],
   "source": [
    "import os, sys\n",
    "import numpy as np\n",
    "import cv2\n",
    "\n",
    "os.environ['TENSORPACK_PIPEDIR'] = \"tmp_pipedir\""
   ]
  },
  {
   "cell_type": "markdown",
   "metadata": {},
   "source": [
    "## Omniglot dataset\n",
    "\n",
    "This dataset contains 1623 different handwritten characters from 50 different alphabets.\n",
    "Each of the 1623 characters was drawn online via Amazon's Mechanical Turk by 20 different people."
   ]
  },
  {
   "cell_type": "code",
   "execution_count": 3,
   "metadata": {},
   "outputs": [],
   "source": [
    "if not os.path.exists(\"omniglot\"):\n",
    "    !git clone https://github.com/brendenlake/omniglot\n",
    "    !cd omniglot/python/ && unzip images_background.zip        \n",
    "    !cd omniglot/python/ && unzip images_background_small1.zip\n",
    "    !cd omniglot/python/ && unzip images_background_small2.zip    \n",
    "    !cd omniglot/python/ && unzip images_evaluation.zip"
   ]
  },
  {
   "cell_type": "code",
   "execution_count": 27,
   "metadata": {},
   "outputs": [],
   "source": [
    "import matplotlib.pylab as plt\n",
    "%matplotlib inline"
   ]
  },
  {
   "cell_type": "code",
   "execution_count": 107,
   "metadata": {},
   "outputs": [
    {
     "name": "stdout",
     "output_type": "stream",
     "text": [
      "images_background\t      images_background.zip\r\n",
      "images_background_small1      images_evaluation\r\n",
      "images_background_small1.zip  images_evaluation.zip\r\n",
      "images_background_small2      one-shot-classification\r\n",
      "images_background_small2.zip\r\n"
     ]
    }
   ],
   "source": [
    "!ls omniglot/python/"
   ]
  },
  {
   "cell_type": "code",
   "execution_count": 108,
   "metadata": {},
   "outputs": [
    {
     "name": "stdout",
     "output_type": "stream",
     "text": [
      "['Alphabet_of_the_Magi', 'Anglo-Saxon_Futhorc', 'Arcadian', 'Armenian', 'Asomtavruli_(Georgian)', 'Balinese', 'Bengali', 'Blackfoot_(Canadian_Aboriginal_Syllabics)', 'Braille', 'Burmese_(Myanmar)', 'Cyrillic', 'Early_Aramaic', 'Futurama', 'Grantha', 'Greek', 'Gujarati', 'Hebrew', 'Inuktitut_(Canadian_Aboriginal_Syllabics)', 'Japanese_(hiragana)', 'Japanese_(katakana)', 'Korean', 'Latin', 'Malay_(Jawi_-_Arabic)', 'Mkhedruli_(Georgian)', 'N_Ko', 'Ojibwe_(Canadian_Aboriginal_Syllabics)', 'Sanskrit', 'Syriac_(Estrangelo)', 'Tagalog', 'Tifinagh']\n",
      "['Angelic', 'Atemayar_Qelisayer', 'Atlantean', 'Aurek-Besh', 'Avesta', 'Ge_ez', 'Glagolitic', 'Gurmukhi', 'Kannada', 'Keble', 'Malayalam', 'Manipuri', 'Mongolian', 'Old_Church_Slavonic_(Cyrillic)', 'Oriya', 'Sylheti', 'Syriac_(Serto)', 'Tengwar', 'Tibetan', 'ULOG']\n"
     ]
    }
   ],
   "source": [
    "TRAIN_DATA_PATH = \"omniglot/python/images_background/\"\n",
    "train_character_groups = !ls {TRAIN_DATA_PATH}\n",
    "train_character_groups = list(train_character_groups)\n",
    "print(train_character_groups)\n",
    "\n",
    "TEST_DATA_PATH = \"omniglot/python/images_evaluation/\"\n",
    "test_character_groups = !ls {TEST_DATA_PATH}\n",
    "test_character_groups = list(test_character_groups)\n",
    "print(test_character_groups)"
   ]
  },
  {
   "cell_type": "code",
   "execution_count": 109,
   "metadata": {},
   "outputs": [],
   "source": [
    "train_group_char_id_ids = {}\n",
    "for g in train_character_groups:\n",
    "    res = !ls {TRAIN_DATA_PATH}/{g}\n",
    "    char_ids = list(res)\n",
    "    train_group_char_id_ids[g] = {}\n",
    "    for char_id in char_ids:\n",
    "        res = !ls {TRAIN_DATA_PATH}/{g}/{char_id}\n",
    "        train_group_char_id_ids[g][char_id] = [_id[:-4] for _id in list(res)]"
   ]
  },
  {
   "cell_type": "code",
   "execution_count": 87,
   "metadata": {},
   "outputs": [],
   "source": [
    "test_group_char_id_ids = {}\n",
    "for g in test_character_groups:\n",
    "    res = !ls {TEST_DATA_PATH}/{g}\n",
    "    char_ids = list(res)\n",
    "    test_group_char_id_ids[g] = {}\n",
    "    for char_id in char_ids:\n",
    "        res = !ls {TEST_DATA_PATH}/{g}/{char_id}\n",
    "        test_group_char_id_ids[g][char_id] = [_id[:-4] for _id in list(res)]"
   ]
  },
  {
   "cell_type": "code",
   "execution_count": 91,
   "metadata": {},
   "outputs": [],
   "source": [
    "def get_image(group, char_id, _id, _type=\"Train\"):    \n",
    "    assert _type in [\"Train\", \"Test\"]\n",
    "    path = TRAIN_DATA_PATH if _type == \"Train\" else TEST_DATA_PATH\n",
    "    path = os.path.join(path, group, char_id, \"%s.png\" % _id)\n",
    "    assert os.path.exists(path), \"Path '%s' does not exist\" % path\n",
    "    img = cv2.imread(path)\n",
    "    return img"
   ]
  },
  {
   "cell_type": "code",
   "execution_count": 110,
   "metadata": {
    "scrolled": true
   },
   "outputs": [
    {
     "data": {
      "text/plain": [
       "<matplotlib.image.AxesImage at 0x7f80cb8159b0>"
      ]
     },
     "execution_count": 110,
     "metadata": {},
     "output_type": "execute_result"
    },
    {
     "data": {
      "image/png": "[encoded data removed]",
      "text/plain": [
       "<matplotlib.figure.Figure at 0x7f80cb84eb38>"
      ]
     },
     "metadata": {},
     "output_type": "display_data"
    },
    {
     "data": {
      "image/png": "[encoded data removed]",
      "text/plain": [
       "<matplotlib.figure.Figure at 0x7f80cb869b38>"
      ]
     },
     "metadata": {},
     "output_type": "display_data"
    }
   ],
   "source": [
    "plt.figure(figsize=(12, 4))\n",
    "plt.suptitle(\"Training\")\n",
    "plt.subplot(131)\n",
    "plt.imshow(get_image('Balinese', 'character01', '0108_01'))\n",
    "plt.subplot(132)\n",
    "plt.imshow(get_image('Balinese', 'character01', '0108_02'))\n",
    "plt.subplot(133)\n",
    "plt.imshow(get_image('Balinese', 'character01', '0108_03'))\n",
    "\n",
    "plt.figure(figsize=(12, 4))\n",
    "plt.subplot(131)\n",
    "plt.imshow(get_image('Balinese', 'character02', '0109_01'))\n",
    "plt.subplot(132)\n",
    "plt.imshow(get_image('Balinese', 'character02', '0109_02'))\n",
    "plt.subplot(133)\n",
    "_ = plt.imshow(get_image('Balinese', 'character02', '0109_03'))"
   ]
  },
  {
   "cell_type": "code",
   "execution_count": 111,
   "metadata": {},
   "outputs": [
    {
     "data": {
      "text/plain": [
       "<matplotlib.image.AxesImage at 0x7f80ca5cc860>"
      ]
     },
     "execution_count": 111,
     "metadata": {},
     "output_type": "execute_result"
    },
    {
     "data": {
      "image/png": "[encoded data removed]",
      "text/plain": [
       "<matplotlib.figure.Figure at 0x7f80cb7ccb00>"
      ]
     },
     "metadata": {},
     "output_type": "display_data"
    },
    {
     "data": {
      "image/png": "[encoded data removed]",
      "text/plain": [
       "<matplotlib.figure.Figure at 0x7f80ca6b8160>"
      ]
     },
     "metadata": {},
     "output_type": "display_data"
    }
   ],
   "source": [
    "plt.figure(figsize=(12, 4))\n",
    "plt.suptitle(\"Testing\")\n",
    "plt.subplot(131)\n",
    "plt.imshow(get_image('Angelic', 'character01', '0965_01', \"Test\"))\n",
    "plt.subplot(132)\n",
    "plt.imshow(get_image('Angelic', 'character01', '0965_02', \"Test\"))\n",
    "plt.subplot(133)\n",
    "plt.imshow(get_image('Angelic', 'character01', '0965_03', \"Test\"))\n",
    "\n",
    "plt.figure(figsize=(12, 4))\n",
    "plt.subplot(131)\n",
    "plt.imshow(get_image('Angelic', 'character02', '0966_01', \"Test\"))\n",
    "plt.subplot(132)\n",
    "plt.imshow(get_image('Angelic', 'character02', '0966_02', \"Test\"))\n",
    "plt.subplot(133)\n",
    "_ = plt.imshow(get_image('Angelic', 'character02', '0966_03', \"Test\"))"
   ]
  },
  {
   "cell_type": "markdown",
   "metadata": {},
   "source": [
    "## Setup dataflow \n",
    "with *tensorpack*\n",
    "\n",
    "- Training / validation datasets\n",
    "- Testing dataset\n",
    "\n",
    "### Training phase:  N-way, k shots learning task\n",
    "\n",
    "\n"
   ]
  },
  {
   "cell_type": "code",
   "execution_count": 113,
   "metadata": {},
   "outputs": [
    {
     "data": {
      "text/plain": [
       "'0.7.1'"
      ]
     },
     "execution_count": 113,
     "metadata": {},
     "output_type": "execute_result"
    }
   ],
   "source": [
    "from tensorpack.dataflow import RNGDataFlow\n",
    "from tensorpack.utils.utils import fix_rng_seed\n",
    "from tensorpack import __version__\n",
    "__version__"
   ]
  },
  {
   "cell_type": "code",
   "execution_count": 114,
   "metadata": {},
   "outputs": [],
   "source": [
    "seed = 12345\n",
    "fix_rng_seed(seed)"
   ]
  },
  {
   "cell_type": "code",
   "execution_count": 143,
   "metadata": {},
   "outputs": [],
   "source": [
    "class OmniglotDataset(RNGDataFlow):\n",
    "    \n",
    "    def __init__(self, dataset_type=\"Train\", data_path=\"\", group_char_id_ids={}, shuffle=True):\n",
    "        assert dataset_type in [\"Train\", \"Test\"]\n",
    "        assert len(group_char_id_ids) > 0\n",
    "        self.dataset_type = dataset_type\n",
    "        self.data_path = data_path\n",
    "        self.group_char_id_ids = group_char_id_ids\n",
    "        self.shuffle = shuffle\n",
    "                \n",
    "        self.data_ids = []\n",
    "        for g in group_char_id_ids:            \n",
    "            group_char_ids = group_char_id_ids[g]\n",
    "            for char_id in group_char_ids:\n",
    "                p = os.path.join(g, char_id)\n",
    "                self.data_ids.extend([os.path.join(p, \"%s.png\" % _id) for _id in group_char_ids[char_id]])\n",
    "            \n",
    "    def _get_image(self, image_id):    \n",
    "        path = os.path.join(self.data_path, image_id)\n",
    "        assert os.path.exists(path), \"Path '%s' does not exist\" % path\n",
    "        img = cv2.imread(path)\n",
    "        return img\n",
    "        \n",
    "    def _get_label(self, image_id):\n",
    "        # Remove .png and char id from the image_id\n",
    "        return image_id[:-7]\n",
    "    \n",
    "    def size(self):\n",
    "        return len(self.data_ids)\n",
    "    \n",
    "    def get_data(self):\n",
    "        idxs = np.arange(len(self.data_ids))\n",
    "        if self.shuffle:\n",
    "            self.rng.shuffle(idxs)\n",
    "        for k in idxs:\n",
    "            yield self._get_image(self.data_ids[k]), self._get_label(self.data_ids[k])    "
   ]
  },
  {
   "cell_type": "code",
   "execution_count": 157,
   "metadata": {},
   "outputs": [],
   "source": [
    "trainval_ds = OmniglotDataset(\"Train\", data_path=TRAIN_DATA_PATH, group_char_id_ids=train_group_char_id_ids)\n",
    "trainval_ds.reset_state()\n",
    "\n",
    "test_ds = OmniglotDataset(\"Test\", data_path=TEST_DATA_PATH, group_char_id_ids=test_group_char_id_ids)\n",
    "test_ds.reset_state()\n",
    "\n",
    "# print(train_ds.size(), test_ds.size())"
   ]
  },
  {
   "cell_type": "markdown",
   "metadata": {},
   "source": [
    "Split training dataset on train/val sets"
   ]
  },
  {
   "cell_type": "code",
   "execution_count": 158,
   "metadata": {},
   "outputs": [],
   "source": [
    "from tensorpack.dataflow import ProxyDataFlow\n",
    "from sklearn.model_selection import KFold\n",
    "\n",
    "\n",
    "class KFoldsDataset(ProxyDataFlow):\n",
    "    \"\"\"\n",
    "    Extract k-fold train/val datasets\n",
    "    \"\"\"\n",
    "    def __init__(self, ds, data_type, fold_index, n_folds):\n",
    "        \"\"\"\n",
    "        Args:\n",
    "            ds (DataFlow): input DataFlow\n",
    "            data_type: train or val\n",
    "            fold_index: fold index\n",
    "            n_folds: number of folds for K-Folds train/val dataset extraction\n",
    "        \"\"\"\n",
    "        assert fold_index >= 0 or fold_index < n_folds\n",
    "        assert data_type in ['train', 'val']\n",
    "        super(KFoldsDataset, self).__init__(ds)        \n",
    "        \n",
    "        kfs = KFold(n_splits=n_folds)\n",
    "        index = 0\n",
    "        for train_indices, val_indices in kfs.split(range(ds.size())):\n",
    "            if index != fold_index:\n",
    "                index += 1\n",
    "                continue\n",
    "            self.indices = train_indices if data_type == 'train' else val_indices\n",
    "            break\n",
    "\n",
    "    def size(self):\n",
    "        return len(self.indices)\n",
    "            \n",
    "    def get_data(self):\n",
    "        index = 0\n",
    "        for dp in self.ds.get_data():            \n",
    "            if index in self.indices:\n",
    "                yield dp\n",
    "            index += 1"
   ]
  },
  {
   "cell_type": "code",
   "execution_count": 159,
   "metadata": {},
   "outputs": [],
   "source": [
    "train_ds = KFoldsDataset(trainval_ds, 'train', 0, 7)\n",
    "val_ds = KFoldsDataset(trainval_ds, 'val', 0, 7)"
   ]
  },
  {
   "cell_type": "markdown",
   "metadata": {},
   "source": [
    "Sample from "
   ]
  },
  {
   "cell_type": "code",
   "execution_count": null,
   "metadata": {},
   "outputs": [],
   "source": []
  },
  {
   "cell_type": "code",
   "execution_count": 155,
   "metadata": {},
   "outputs": [],
   "source": [
    "# plt.figure(figsize=(12, 4))\n",
    "\n",
    "# img, label = next(train_ds.get_data())\n",
    "# plt.subplot(121)\n",
    "# plt.title(\"Train - %s\" % label)\n",
    "# plt.imshow(img)\n",
    "\n",
    "# img, label = next(test_ds.get_data())\n",
    "# plt.subplot(122)\n",
    "# plt.title(\"Test - %s\" % label)\n",
    "# _ = plt.imshow(img)"
   ]
  },
  {
   "cell_type": "code",
   "execution_count": null,
   "metadata": {},
   "outputs": [],
   "source": []
  },
  {
   "cell_type": "code",
   "execution_count": null,
   "metadata": {},
   "outputs": [],
   "source": []
  },
  {
   "cell_type": "code",
   "execution_count": null,
   "metadata": {},
   "outputs": [],
   "source": []
  },
  {
   "cell_type": "code",
   "execution_count": null,
   "metadata": {},
   "outputs": [],
   "source": []
  },
  {
   "cell_type": "code",
   "execution_count": null,
   "metadata": {},
   "outputs": [],
   "source": []
  }
 ],
 "metadata": {
  "kernelspec": {
   "display_name": "Python 3",
   "language": "python",
   "name": "python3"
  },
  "language_info": {
   "codemirror_mode": {
    "name": "ipython",
    "version": 3
   },
   "file_extension": ".py",
   "mimetype": "text/x-python",
   "name": "python",
   "nbconvert_exporter": "python",
   "pygments_lexer": "ipython3",
   "version": "3.5.2"
  }
 },
 "nbformat": 4,
 "nbformat_minor": 2
}
