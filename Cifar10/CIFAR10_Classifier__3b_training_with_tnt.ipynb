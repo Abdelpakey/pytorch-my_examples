{
 "cells": [
  {
   "cell_type": "markdown",
   "metadata": {},
   "source": [
    "# CIFAR10 Classifier. Training using [tnt](https://github.com/pytorch/tnt)\n",
    "\n",
    "\n",
    "This is an optional part of the tutorial on how to train a classifier on CIFAR10 dataset using [tnt](https://github.com/pytorch/tnt) library.\n",
    "\n",
    "There are several projects on Github aiming to provide high-level abstractions to train neural networks:\n",
    "- [tnt](https://github.com/pytorch/tnt)\n",
    "- [torchsample](https://github.com/ncullen93/torchsample)\n",
    "- [ignite](https://github.com/pytorch/ignite)\n",
    "- ...\n",
    "\n",
    "and none of them is perfect. So we choose the one is under more active development by the pytorch developers. \n",
    "\n",
    "Library tnt is a pytorch port of lua [torchnet](https://github.com/torchnet/torchnet) and provides four set of important classes:\n",
    "    - Dataset: handling and pre-processing data in various ways.\n",
    "    - Engine: training/testing machine learning algorithm.\n",
    "    - Meter: meter performance or any other quantity.\n",
    "    - Log: output performance or any other string to file / disk in a consistent manner.\n",
    "\n",
    "\n",
    "\n",
    "\n",
    "Here we will assemble the results of two previous parts and train a model on CIFAR10.\n",
    "\n",
    "- Setup dataflow\n",
    "- Setup model: SqueezeNet v1.1\n",
    "- Setup loss function and optimizer\n",
    "- Setup training pipeline\n",
    "    - Training\n",
    "    - Inference\n",
    "\n",
    "\n",
    "\n",
    "\n",
    "\n",
    "\n",
    "References:\n",
    "- [pytorch-examples/imagenet](https://github.com/pytorch/examples/blob/master/imagenet/main.py)\n",
    "- [pytorch-transfer learning](http://pytorch.org/tutorials/beginner/transfer_learning_tutorial.html#sphx-glr-beginner-transfer-learning-tutorial-py)\n"
   ]
  },
  {
   "cell_type": "code",
   "execution_count": 1,
   "metadata": {},
   "outputs": [],
   "source": [
    "# https://ipython.org/ipython-doc/3/config/extensions/autoreload.html\n",
    "%load_ext autoreload\n",
    "%autoreload 2"
   ]
  },
  {
   "cell_type": "code",
   "execution_count": 2,
   "metadata": {},
   "outputs": [],
   "source": [
    "import os, sys\n",
    "import torch\n",
    "import torchvision"
   ]
  },
  {
   "cell_type": "code",
   "execution_count": 3,
   "metadata": {},
   "outputs": [],
   "source": [
    "import numpy as np\n",
    "import matplotlib.pylab as plt\n",
    "%matplotlib inline"
   ]
  },
  {
   "cell_type": "markdown",
   "metadata": {},
   "source": [
    "## Install tnt"
   ]
  },
  {
   "cell_type": "code",
   "execution_count": 4,
   "metadata": {
    "collapsed": true
   },
   "outputs": [
    {
     "name": "stdout",
     "output_type": "stream",
     "text": [
      "Collecting git+https://github.com/pytorch/tnt.git@master\n",
      "  Cloning https://github.com/pytorch/tnt.git (to master) to /tmp/pip-dya53m9w-build\n",
      "Requirement already satisfied: torch in /usr/local/lib/python3.5/dist-packages (from torchnet==0.0.1)\n",
      "Requirement already satisfied: six in /usr/local/lib/python3.5/dist-packages (from torchnet==0.0.1)\n",
      "Collecting visdom (from torchnet==0.0.1)\n",
      "  Downloading visdom-0.1.6.3.tar.gz\n",
      "Requirement already satisfied: numpy in /usr/local/lib/python3.5/dist-packages (from torch->torchnet==0.0.1)\n",
      "Requirement already satisfied: pyyaml in /usr/local/lib/python3.5/dist-packages (from torch->torchnet==0.0.1)\n",
      "Requirement already satisfied: pillow in /usr/local/lib/python3.5/dist-packages (from visdom->torchnet==0.0.1)\n",
      "Requirement already satisfied: requests in /usr/local/lib/python3.5/dist-packages (from visdom->torchnet==0.0.1)\n",
      "Requirement already satisfied: tornado in /usr/local/lib/python3.5/dist-packages (from visdom->torchnet==0.0.1)\n",
      "Requirement already satisfied: pyzmq in /usr/local/lib/python3.5/dist-packages (from visdom->torchnet==0.0.1)\n",
      "Collecting torchfile (from visdom->torchnet==0.0.1)\n",
      "  Downloading torchfile-0.1.0.tar.gz\n",
      "Requirement already satisfied: olefile in /usr/local/lib/python3.5/dist-packages (from pillow->visdom->torchnet==0.0.1)\n",
      "Requirement already satisfied: urllib3<1.23,>=1.21.1 in /usr/local/lib/python3.5/dist-packages (from requests->visdom->torchnet==0.0.1)\n",
      "Requirement already satisfied: certifi>=2017.4.17 in /usr/local/lib/python3.5/dist-packages (from requests->visdom->torchnet==0.0.1)\n",
      "Requirement already satisfied: idna<2.7,>=2.5 in /usr/local/lib/python3.5/dist-packages (from requests->visdom->torchnet==0.0.1)\n",
      "Requirement already satisfied: chardet<3.1.0,>=3.0.2 in /usr/local/lib/python3.5/dist-packages (from requests->visdom->torchnet==0.0.1)\n",
      "Building wheels for collected packages: visdom, torchfile\n",
      "  Running setup.py bdist_wheel for visdom ... \u001b[?25ldone\n",
      "\u001b[?25h  Stored in directory: /root/.cache/pip/wheels/ac/7f/50/2479ad6b7236ed7645cdf179af9ce68c82d3acff8fc81ba7fc\n",
      "  Running setup.py bdist_wheel for torchfile ... \u001b[?25ldone\n",
      "\u001b[?25h  Stored in directory: /root/.cache/pip/wheels/27/0a/74/650124cbc320716ff2a6566e711a0c84f871647b33ffc868f6\n",
      "Successfully built visdom torchfile\n",
      "Installing collected packages: torchfile, visdom, torchnet\n",
      "  Running setup.py install for torchnet ... \u001b[?25ldone\n",
      "\u001b[?25hSuccessfully installed torchfile-0.1.0 torchnet-0.0.1 visdom-0.1.6.3\n"
     ]
    }
   ],
   "source": [
    "!pip install git+https://github.com/pytorch/tnt.git@master "
   ]
  },
  {
   "cell_type": "code",
   "execution_count": null,
   "metadata": {},
   "outputs": [],
   "source": []
  }
 ],
 "metadata": {
  "kernelspec": {
   "display_name": "Python 3",
   "language": "python",
   "name": "python3"
  },
  "language_info": {
   "codemirror_mode": {
    "name": "ipython",
    "version": 3
   },
   "file_extension": ".py",
   "mimetype": "text/x-python",
   "name": "python",
   "nbconvert_exporter": "python",
   "pygments_lexer": "ipython3",
   "version": "3.5.2"
  }
 },
 "nbformat": 4,
 "nbformat_minor": 2
}
