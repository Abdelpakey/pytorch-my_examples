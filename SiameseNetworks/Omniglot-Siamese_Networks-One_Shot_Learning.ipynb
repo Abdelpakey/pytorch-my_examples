{
 "cells": [
  {
   "cell_type": "markdown",
   "metadata": {},
   "source": [
    "# Siamese neural networks, *one-shot learning* on Omniglot dataset\n",
    "\n",
    "This notebook presents the paper [\"Siamese Neural Networks for One-shot Image Recognition\"](https://www.cs.cmu.edu/~rsalakhu/papers/oneshot1.pdf) coded with PyTorch framework. \n",
    "\n",
    "- Siamese neural networks -> image similarity task\n",
    "- *one-shot learning* = predict the class of a test image comparing it with a set of single examples of each possible class\n",
    "\n",
    "```\n",
    "\n",
    "test image ------[CNN]---- features ----\\\n",
    "                                         \\\n",
    "train image 1 ---[CNN]---- features ---[is same?] ---- Proba class 1\n",
    "train image 2 ---[CNN]---- features ---[is same?] ---- Proba class 2  \n",
    "    ...                                  \n",
    "train image N ---[CNN]---- features ---[is same?] ---- Proba class N\n",
    "\n",
    "```\n",
    "\n",
    "References:\n",
    "- [paper](https://www.cs.cmu.edu/~rsalakhu/papers/oneshot1.pdf)\n",
    "- [omniglot](https://github.com/brendenlake/omniglot)\n",
    "- [keras-oneshot](https://github.com/sorenbouma/keras-oneshot)\n"
   ]
  },
  {
   "cell_type": "code",
   "execution_count": 1,
   "metadata": {},
   "outputs": [],
   "source": [
    "# https://ipython.org/ipython-doc/3/config/extensions/autoreload.html\n",
    "%load_ext autoreload\n",
    "%autoreload 2"
   ]
  },
  {
   "cell_type": "code",
   "execution_count": 2,
   "metadata": {},
   "outputs": [],
   "source": [
    "import os, sys\n",
    "import numpy as np\n",
    "import cv2"
   ]
  },
  {
   "cell_type": "code",
   "execution_count": 3,
   "metadata": {},
   "outputs": [],
   "source": [
    "sys.path.append(\".\")"
   ]
  },
  {
   "cell_type": "markdown",
   "metadata": {},
   "source": [
    "## Model\n",
    "\n",
    "- 2 convolutional neural networks with shared weights\n",
    "- standard verification task : discriminate between the class-identity of image pairs\n",
    "    - `{ball, dog} ---[Siamese network] --- false`\n",
    "    - `{ball1, ball2} ---[Siamese network] --- true`\n",
    "    \n",
    "### CNN\n",
    "\n",
    "#### Architecture \n",
    "\n",
    "Single image encoding CNN is defined as \n",
    "```\n",
    "---[C|R]---[P] ->-[C|R]---[P]->-[C|R]---[P]->-[C|R]---[Flatten]---[FC|Sigmoid]---\n",
    "   64      2x2     128    2x2    128    2x2    256\n",
    "   10x10           7x7           4x4           4x4\n",
    "```\n",
    "where `C` is 2D convolution, `R` - ReLU activation, `P` - max-pooling, `FC` - fully-connected layer\n",
    "\n",
    "Complete network is defined as\n",
    "```\n",
    "input1 --- [CNN]---\\\n",
    "                 [merge]---[Dense]---output\n",
    "input2 --- [CNN]---/\n",
    "```\n",
    "where `merge` is L1 component-wise distance between vectors\n",
    "\n",
    "\n",
    "#### Weight initialization\n",
    "\n",
    "- Convolution layers: \n",
    "    - Kernel : normal distribution with $\\mu=0$ and $\\sigma=10^{-2}$\n",
    "    - Bias : normal distribution with $\\mu=0.5$ and $\\sigma=10^{-2}$\n",
    "- Fully-connected layers: \n",
    "    - Kernel : normal distribution with $\\mu=0$ and $\\sigma=2 \\cdot 10^{-1}$\n",
    "    - Bias : normal distribution with $\\mu=0.5$ and $\\sigma=10^{-2}$\n"
   ]
  },
  {
   "cell_type": "code",
   "execution_count": 4,
   "metadata": {},
   "outputs": [
    {
     "data": {
      "text/plain": [
       "'0.2.0_3'"
      ]
     },
     "execution_count": 4,
     "metadata": {},
     "output_type": "execute_result"
    }
   ],
   "source": [
    "import torch\n",
    "from torch.nn import Module, Sequential\n",
    "from torch.nn import Linear, Conv2d, MaxPool2d, Sigmoid, ReLU, PairwiseDistance\n",
    "from torch.autograd import Variable\n",
    "torch.__version__"
   ]
  },
  {
   "cell_type": "code",
   "execution_count": 5,
   "metadata": {},
   "outputs": [],
   "source": [
    "from common.nn_utils import print_trainable_parameters"
   ]
  },
  {
   "cell_type": "code",
   "execution_count": 6,
   "metadata": {},
   "outputs": [],
   "source": [
    "class Flatten(Module):\n",
    "    def forward(self, x):\n",
    "        return x.view(x.size(0), -1)"
   ]
  },
  {
   "cell_type": "code",
   "execution_count": 7,
   "metadata": {},
   "outputs": [],
   "source": [
    "class Net(Module):\n",
    "    \n",
    "    def __init__(self, input_shape):\n",
    "        \"\"\"\n",
    "        :param input_shape: input image shape, (h, w, c)\n",
    "        \"\"\"\n",
    "        super(Net, self).__init__()\n",
    "        \n",
    "        self.features = Sequential(            \n",
    "            Conv2d(input_shape[-1], 64, kernel_size=10),\n",
    "            ReLU(),\n",
    "            MaxPool2d(kernel_size=(2, 2), stride=2),\n",
    "            \n",
    "            Conv2d(64, 128, kernel_size=7),\n",
    "            ReLU(),\n",
    "            MaxPool2d(kernel_size=(2, 2), stride=2),\n",
    "\n",
    "            Conv2d(128, 128, kernel_size=4),\n",
    "            ReLU(),\n",
    "            MaxPool2d(kernel_size=(2, 2), stride=2),            \n",
    "            \n",
    "            Conv2d(128, 256, kernel_size=4),\n",
    "            ReLU()        \n",
    "        )\n",
    "        \n",
    "        # Compute number of input features for the last fully-connected layer\n",
    "        input_shape = (1, ) + input_shape[::-1]\n",
    "        x = Variable(torch.rand(input_shape), requires_grad=False)\n",
    "        x = self.features(x)\n",
    "        x = Flatten()(x)\n",
    "        n = x.size()[1]\n",
    "        \n",
    "        self.classifier = Sequential(\n",
    "            Flatten(),\n",
    "            Linear(n, 4096),\n",
    "            Sigmoid()\n",
    "        )     \n",
    "        \n",
    "    def forward(self, x):        \n",
    "        x = self.features(x)\n",
    "        x = self.classifier(x)\n",
    "        return x"
   ]
  },
  {
   "cell_type": "code",
   "execution_count": 8,
   "metadata": {},
   "outputs": [],
   "source": [
    "class SiameseNetworks(Module):\n",
    "    \n",
    "    def __init__(self, input_shape):\n",
    "        \"\"\"\n",
    "        :param input_shape: input image shape, (h, w, c)\n",
    "        \"\"\"\n",
    "        super(SiameseNetworks, self).__init__()\n",
    "        self.net = Net(input_shape)\n",
    "                \n",
    "        self.classifier = Sequential(\n",
    "            Linear(4096, 1, bias=False),\n",
    "            Sigmoid()\n",
    "        )        \n",
    "        self._weight_init()  \n",
    "        \n",
    "    def _weight_init(self):\n",
    "        for m in self.modules():\n",
    "            if isinstance(m, Conv2d):\n",
    "                m.weight.data.normal_(0, 1e-2)\n",
    "                m.bias.data.normal_(0.5, 1e-2)\n",
    "            elif isinstance(m, Linear):\n",
    "                m.weight.data.normal_(0, 2.0*1e-1)\n",
    "                if m.bias is not None:\n",
    "                    m.bias.data.normal_(0.5, 1e-2) \n",
    "    \n",
    "    def forward(self, x1, x2):        \n",
    "        x1 = self.net(x1)\n",
    "        x2 = self.net(x2)        \n",
    "        # L1 component-wise distance between vectors:\n",
    "        x = torch.pow(torch.abs(x1 - x2), 2.0)      \n",
    "        return self.classifier(x)"
   ]
  },
  {
   "cell_type": "code",
   "execution_count": 9,
   "metadata": {},
   "outputs": [],
   "source": [
    "siamese_net = SiameseNetworks(input_shape=(105, 105, 1))\n",
    "siamese_net = siamese_net.cuda()"
   ]
  },
  {
   "cell_type": "code",
   "execution_count": 10,
   "metadata": {},
   "outputs": [
    {
     "name": "stdout",
     "output_type": "stream",
     "text": [
      "net.features.0.weight torch.Size([64, 1, 10, 10])\n",
      "net.features.0.bias torch.Size([64])\n",
      "net.features.3.weight torch.Size([128, 64, 7, 7])\n",
      "net.features.3.bias torch.Size([128])\n",
      "net.features.6.weight torch.Size([128, 128, 4, 4])\n",
      "net.features.6.bias torch.Size([128])\n",
      "net.features.9.weight torch.Size([256, 128, 4, 4])\n",
      "net.features.9.bias torch.Size([256])\n",
      "net.classifier.1.weight torch.Size([4096, 9216])\n",
      "net.classifier.1.bias torch.Size([4096])\n",
      "classifier.0.weight torch.Size([1, 4096])\n",
      "\n",
      "Total number of trainable parameters:  38951744\n"
     ]
    }
   ],
   "source": [
    "print_trainable_parameters(siamese_net)"
   ]
  },
  {
   "cell_type": "code",
   "execution_count": 11,
   "metadata": {},
   "outputs": [
    {
     "data": {
      "text/plain": [
       "torch.Size([2, 1])"
      ]
     },
     "execution_count": 11,
     "metadata": {},
     "output_type": "execute_result"
    }
   ],
   "source": [
    "input_shape = (2, 1, 105, 105)\n",
    "x = Variable(torch.rand(input_shape), requires_grad=False).cuda()\n",
    "y = siamese_net(x, x)\n",
    "y.size()"
   ]
  },
  {
   "cell_type": "code",
   "execution_count": null,
   "metadata": {},
   "outputs": [],
   "source": []
  },
  {
   "cell_type": "markdown",
   "metadata": {},
   "source": [
    "### One-shot learning\n",
    "\n",
    "> *Classification under the restriction that we may only observe a single example of each possible class before making a prediction about a test instance*\n",
    "\n",
    "Once trained siamese network can be used to classify previously unseen data and classes (being not too far from training data). Previously unseen means, for example, Siamese network is trained on latin and greek alphabets and one-shot learning evaluation is performed on the cyrillic alphabet.\n",
    "\n",
    "~~Let's previously unseen data is composed of $C$ classes.~~\n"
   ]
  },
  {
   "cell_type": "code",
   "execution_count": null,
   "metadata": {},
   "outputs": [],
   "source": []
  },
  {
   "cell_type": "markdown",
   "metadata": {},
   "source": [
    "## Omniglot dataset\n",
    "\n",
    "This dataset contains 1623 different handwritten characters from 50 different alphabets.\n",
    "Each of the 1623 characters was drawn online via Amazon's Mechanical Turk by 20 different people."
   ]
  },
  {
   "cell_type": "code",
   "execution_count": 12,
   "metadata": {},
   "outputs": [],
   "source": [
    "# !unzip --help \n",
    "\n",
    "if not os.path.exists(\"omniglot\"):\n",
    "    !git clone https://github.com/brendenlake/omniglot\n",
    "    !cd omniglot/python/ && unzip images_background.zip        \n",
    "    !cd omniglot/python/ && unzip images_background_small1.zip\n",
    "    !cd omniglot/python/ && unzip images_background_small2.zip    \n",
    "    !cd omniglot/python/ && unzip images_evaluation.zip"
   ]
  },
  {
   "cell_type": "code",
   "execution_count": 13,
   "metadata": {},
   "outputs": [],
   "source": [
    "import matplotlib.pylab as plt\n",
    "%matplotlib inline"
   ]
  },
  {
   "cell_type": "code",
   "execution_count": 14,
   "metadata": {},
   "outputs": [
    {
     "name": "stdout",
     "output_type": "stream",
     "text": [
      "\n",
      "Train alphabets: \n",
      " ['Alphabet_of_the_Magi', 'Anglo-Saxon_Futhorc', 'Arcadian', 'Armenian', 'Asomtavruli_(Georgian)', 'Balinese', 'Bengali', 'Blackfoot_(Canadian_Aboriginal_Syllabics)', 'Braille', 'Burmese_(Myanmar)', 'Cyrillic', 'Early_Aramaic', 'Futurama', 'Grantha', 'Greek', 'Gujarati', 'Hebrew', 'Inuktitut_(Canadian_Aboriginal_Syllabics)', 'Japanese_(hiragana)', 'Japanese_(katakana)', 'Korean', 'Latin', 'Malay_(Jawi_-_Arabic)', 'Mkhedruli_(Georgian)', 'N_Ko', 'Ojibwe_(Canadian_Aboriginal_Syllabics)', 'Sanskrit', 'Syriac_(Estrangelo)', 'Tagalog', 'Tifinagh'] 30\n",
      "\n",
      "Evaluation alphabets: \n",
      " ['Angelic', 'Atemayar_Qelisayer', 'Atlantean', 'Aurek-Besh', 'Avesta', 'Ge_ez', 'Glagolitic', 'Gurmukhi', 'Kannada', 'Keble', 'Malayalam', 'Manipuri', 'Mongolian', 'Old_Church_Slavonic_(Cyrillic)', 'Oriya', 'Sylheti', 'Syriac_(Serto)', 'Tengwar', 'Tibetan', 'ULOG'] 20\n"
     ]
    }
   ],
   "source": [
    "TRAIN_DATA_PATH = \"omniglot/python/images_background/\"\n",
    "train_alphabets = !ls {TRAIN_DATA_PATH}\n",
    "train_alphabets = list(train_alphabets)\n",
    "print(\"\\nTrain alphabets: \\n\", train_alphabets, len(train_alphabets))\n",
    "\n",
    "TEST_DATA_PATH = \"omniglot/python/images_evaluation/\"\n",
    "test_alphabets = !ls {TEST_DATA_PATH}\n",
    "test_alphabets = list(test_alphabets)\n",
    "print(\"\\nEvaluation alphabets: \\n\", test_alphabets, len(test_alphabets))"
   ]
  },
  {
   "cell_type": "code",
   "execution_count": 15,
   "metadata": {},
   "outputs": [],
   "source": [
    "train_alphabet_char_id_drawer_ids = {}\n",
    "for a in train_alphabets:\n",
    "    res = !ls \"{TRAIN_DATA_PATH}/{a}\"\n",
    "    char_ids = list(res)\n",
    "    train_alphabet_char_id_drawer_ids[a] = {}\n",
    "    for char_id in char_ids:\n",
    "        res = !ls \"{TRAIN_DATA_PATH}/{a}/{char_id}\"\n",
    "        train_alphabet_char_id_drawer_ids[a][char_id] = [_id[:-4] for _id in list(res)]"
   ]
  },
  {
   "cell_type": "code",
   "execution_count": 16,
   "metadata": {},
   "outputs": [],
   "source": [
    "test_alphabet_char_id_drawer_ids = {}\n",
    "for a in test_alphabets:\n",
    "    res = !ls \"{TEST_DATA_PATH}/{a}\"\n",
    "    char_ids = list(res)\n",
    "    test_alphabet_char_id_drawer_ids[a] = {}\n",
    "    for char_id in char_ids:\n",
    "        res = !ls \"{TEST_DATA_PATH}/{a}/{char_id}\"\n",
    "        test_alphabet_char_id_drawer_ids[a][char_id] = [_id[:-4] for _id in list(res)]"
   ]
  },
  {
   "cell_type": "code",
   "execution_count": 17,
   "metadata": {},
   "outputs": [
    {
     "name": "stdout",
     "output_type": "stream",
     "text": [
      "Characters of 'Alphabet_of_the_Magi': \n",
      " dict_keys(['character01', 'character10', 'character09', 'character08', 'character05', 'character02', 'character20', 'character14', 'character16', 'character06', 'character04', 'character18', 'character13', 'character17', 'character11', 'character07', 'character19', 'character03', 'character12', 'character15'])\n"
     ]
    }
   ],
   "source": [
    "print(\"Characters of 'Alphabet_of_the_Magi': \\n\", train_alphabet_char_id_drawer_ids['Alphabet_of_the_Magi'].keys())"
   ]
  },
  {
   "cell_type": "code",
   "execution_count": 18,
   "metadata": {},
   "outputs": [
    {
     "name": "stdout",
     "output_type": "stream",
     "text": [
      "Images of a single character of 'Alphabet_of_the_Magi': \n",
      " ['0709_01', '0709_02', '0709_03', '0709_04', '0709_05', '0709_06', '0709_07', '0709_08', '0709_09', '0709_10', '0709_11', '0709_12', '0709_13', '0709_14', '0709_15', '0709_16', '0709_17', '0709_18', '0709_19', '0709_20']\n"
     ]
    }
   ],
   "source": [
    "print(\"Images of a single character of 'Alphabet_of_the_Magi': \\n\", \n",
    "      train_alphabet_char_id_drawer_ids['Alphabet_of_the_Magi']['character01'])"
   ]
  },
  {
   "cell_type": "code",
   "execution_count": null,
   "metadata": {},
   "outputs": [],
   "source": []
  },
  {
   "cell_type": "code",
   "execution_count": 19,
   "metadata": {},
   "outputs": [],
   "source": [
    "def get_image(group, char_id, _id, _type=\"Train\"):    \n",
    "    assert _type in [\"Train\", \"Test\"]\n",
    "    path = TRAIN_DATA_PATH if _type == \"Train\" else TEST_DATA_PATH\n",
    "    path = os.path.join(path, group, char_id, \"%s.png\" % _id)\n",
    "    assert os.path.exists(path), \"Path '%s' does not exist\" % path\n",
    "    img = cv2.imread(path)\n",
    "    return img"
   ]
  },
  {
   "cell_type": "code",
   "execution_count": 20,
   "metadata": {},
   "outputs": [
    {
     "data": {
      "image/png": "[encoded data removed]",
      "text/plain": [
       "<matplotlib.figure.Figure at 0x7f6cd5a0c630>"
      ]
     },
     "metadata": {},
     "output_type": "display_data"
    },
    {
     "data": {
      "image/png": "[encoded data removed]",
      "text/plain": [
       "<matplotlib.figure.Figure at 0x7f6cd59202b0>"
      ]
     },
     "metadata": {},
     "output_type": "display_data"
    }
   ],
   "source": [
    "plt.figure(figsize=(12, 4))\n",
    "plt.suptitle(\"Training\")\n",
    "plt.subplot(131)\n",
    "plt.imshow(get_image('Balinese', 'character01', '0108_01'))\n",
    "plt.subplot(132)\n",
    "plt.imshow(get_image('Balinese', 'character01', '0108_02'))\n",
    "plt.subplot(133)\n",
    "plt.imshow(get_image('Balinese', 'character01', '0108_03'))\n",
    "\n",
    "plt.figure(figsize=(12, 4))\n",
    "plt.subplot(131)\n",
    "plt.imshow(get_image('Balinese', 'character02', '0109_01'))\n",
    "plt.subplot(132)\n",
    "plt.imshow(get_image('Balinese', 'character02', '0109_02'))\n",
    "plt.subplot(133)\n",
    "_ = plt.imshow(get_image('Balinese', 'character02', '0109_03'))"
   ]
  },
  {
   "cell_type": "code",
   "execution_count": 21,
   "metadata": {},
   "outputs": [
    {
     "data": {
      "image/png": "[encoded data removed]",
      "text/plain": [
       "<matplotlib.figure.Figure at 0x7f6cd47a36a0>"
      ]
     },
     "metadata": {},
     "output_type": "display_data"
    },
    {
     "data": {
      "image/png": "[encoded data removed]",
      "text/plain": [
       "<matplotlib.figure.Figure at 0x7f6cd46b12e8>"
      ]
     },
     "metadata": {},
     "output_type": "display_data"
    }
   ],
   "source": [
    "plt.figure(figsize=(12, 4))\n",
    "plt.suptitle(\"Testing\")\n",
    "plt.subplot(131)\n",
    "plt.imshow(get_image('Angelic', 'character01', '0965_01', \"Test\"))\n",
    "plt.subplot(132)\n",
    "plt.imshow(get_image('Angelic', 'character01', '0965_02', \"Test\"))\n",
    "plt.subplot(133)\n",
    "plt.imshow(get_image('Angelic', 'character01', '0965_03', \"Test\"))\n",
    "\n",
    "plt.figure(figsize=(12, 4))\n",
    "plt.subplot(131)\n",
    "plt.imshow(get_image('Angelic', 'character02', '0966_01', \"Test\"))\n",
    "plt.subplot(132)\n",
    "plt.imshow(get_image('Angelic', 'character02', '0966_02', \"Test\"))\n",
    "plt.subplot(133)\n",
    "_ = plt.imshow(get_image('Angelic', 'character02', '0966_03', \"Test\"))"
   ]
  },
  {
   "cell_type": "code",
   "execution_count": null,
   "metadata": {},
   "outputs": [],
   "source": []
  },
  {
   "cell_type": "markdown",
   "metadata": {},
   "source": [
    "## Training strategy\n",
    "\n",
    "- Train network on the verification task\n",
    "    - identify input pairs according to the probability that they belong to the same or different classes\n",
    "- Validate model \n",
    "    - classification accuracy\n",
    "    - one-shot learning\n",
    "\n",
    "### Verification task\n",
    "\n",
    "Omniglot dataset is used to randomly produce *same* and *different* pairs of images."
   ]
  },
  {
   "cell_type": "code",
   "execution_count": 22,
   "metadata": {},
   "outputs": [],
   "source": [
    "from torch.utils.data import Dataset, DataLoader"
   ]
  },
  {
   "cell_type": "code",
   "execution_count": 23,
   "metadata": {},
   "outputs": [],
   "source": [
    "class OmniglotDataset(Dataset):\n",
    "    \n",
    "    def __init__(self, dataset_type=\"Train\", data_path=\"\", alphabet_char_id_drawers_ids={}, drawers_ids=None, shuffle=True):        \n",
    "        assert dataset_type in [\"Train\", \"Test\"]\n",
    "        assert len(alphabet_char_id_drawers_ids) > 0\n",
    "        super(OmniglotDataset, self).__init__()\n",
    "        self.dataset_type = dataset_type\n",
    "        self.data_path = data_path\n",
    "        self.alphabet_char_id_drawers_ids = alphabet_char_id_drawers_ids\n",
    "        self.drawers_ids = drawers_ids\n",
    "        self.shuffle = shuffle\n",
    "        \n",
    "        if drawers_ids is None:\n",
    "            drawer_cond_fn = lambda _id: True\n",
    "        else:\n",
    "            drawer_cond_fn = lambda _id: str(_id[-3:]) in drawers_ids\n",
    "            \n",
    "        self.data_ids = []\n",
    "        for a in alphabet_char_id_drawers_ids:            \n",
    "            alphabet_char_ids = alphabet_char_id_drawers_ids[a]\n",
    "            for char_id in alphabet_char_ids:\n",
    "                p = os.path.join(a, char_id)\n",
    "                self.data_ids.extend([os.path.join(p, \"%s.png\" % _id) for _id in alphabet_char_ids[char_id] \n",
    "                                      if drawer_cond_fn(_id)])\n",
    "            \n",
    "    def _get_image(self, image_id):    \n",
    "        path = os.path.join(self.data_path, image_id)\n",
    "        assert os.path.exists(path), \"Path '%s' does not exist\" % path\n",
    "        img = cv2.imread(path, cv2.IMREAD_GRAYSCALE)\n",
    "        return np.expand_dims(img, axis=-1)\n",
    "        \n",
    "    def _get_label(self, image_id):\n",
    "        # Remove .png and char id from the image_id\n",
    "        return os.path.dirname(image_id)\n",
    "    \n",
    "    def __len__(self):\n",
    "        return len(self.data_ids)\n",
    "    \n",
    "    def __getitem__(self, index):\n",
    "        return self._get_image(self.data_ids[index]), self._get_label(self.data_ids[index])    "
   ]
  },
  {
   "cell_type": "markdown",
   "metadata": {},
   "source": [
    "#### Dataset splitting:    \n",
    "- Training:\n",
    "    - random 30 of 50 alphabets\n",
    "    - random 12 of 20 drawers     \n",
    "    - 3 types of training datasets : \n",
    "        - 30k of pairs\n",
    "        - 90k of pairs\n",
    "        - 150k of pairs    \n",
    "- Validation:\n",
    "    - remaining 10 of 20 alphabets\n",
    "    - remaining 4 of 8 alphabets\n",
    "    - 10k of pairs\n",
    "- Testing:\n",
    "    - remaining 10 of 20 alphabets\n",
    "    - remaining 4 of 8 alphabets\n",
    "    - 10k of pairs\n"
   ]
  },
  {
   "cell_type": "code",
   "execution_count": 24,
   "metadata": {},
   "outputs": [],
   "source": [
    "np.random.seed(12345)"
   ]
  },
  {
   "cell_type": "code",
   "execution_count": 25,
   "metadata": {},
   "outputs": [],
   "source": [
    "# Sample 12 drawers out of 20\n",
    "all_drawers_ids = np.arange(20) \n",
    "train_drawers_ids = np.random.choice(all_drawers_ids, size=12, replace=False)\n",
    "# Sample 4 drawers out of remaining 8\n",
    "val_drawers_ids = np.random.choice(list(set(all_drawers_ids) - set(train_drawers_ids)), size=4, replace=False)\n",
    "test_drawers_ids = np.array(list(set(all_drawers_ids) - set(val_drawers_ids) - set(train_drawers_ids)))\n",
    "\n",
    "def create_str_drawers_ids(drawers_ids):\n",
    "    return [\"_{0:0>2}\".format(_id) for _id in drawers_ids]\n",
    "\n",
    "train_drawers_ids = create_str_drawers_ids(train_drawers_ids)\n",
    "val_drawers_ids = create_str_drawers_ids(val_drawers_ids)\n",
    "test_drawers_ids = create_str_drawers_ids(test_drawers_ids)"
   ]
  },
  {
   "cell_type": "code",
   "execution_count": 26,
   "metadata": {},
   "outputs": [
    {
     "name": "stdout",
     "output_type": "stream",
     "text": [
      "['_13', '_08', '_16', '_03', '_15', '_12', '_00', '_10', '_07', '_11', '_06', '_17']\n",
      "['_09', '_18', '_19', '_14']\n",
      "['_01', '_02', '_04', '_05']\n"
     ]
    }
   ],
   "source": [
    "print(train_drawers_ids)\n",
    "print(val_drawers_ids)\n",
    "print(test_drawers_ids)"
   ]
  },
  {
   "cell_type": "code",
   "execution_count": 27,
   "metadata": {},
   "outputs": [],
   "source": [
    "train_ds = OmniglotDataset(\"Train\", data_path=TRAIN_DATA_PATH, \n",
    "                           alphabet_char_id_drawers_ids=train_alphabet_char_id_drawer_ids, \n",
    "                           drawers_ids=train_drawers_ids)\n",
    "\n",
    "val_ds = OmniglotDataset(\"Test\", data_path=TEST_DATA_PATH, \n",
    "                         alphabet_char_id_drawers_ids=test_alphabet_char_id_drawer_ids, \n",
    "                         drawers_ids=val_drawers_ids)\n",
    "\n",
    "test_ds = OmniglotDataset(\"Test\", data_path=TEST_DATA_PATH, \n",
    "                          alphabet_char_id_drawers_ids=test_alphabet_char_id_drawer_ids, \n",
    "                          drawers_ids=test_drawers_ids)"
   ]
  },
  {
   "cell_type": "code",
   "execution_count": 28,
   "metadata": {},
   "outputs": [
    {
     "data": {
      "text/plain": [
       "(10604, 2636, 2636)"
      ]
     },
     "execution_count": 28,
     "metadata": {},
     "output_type": "execute_result"
    }
   ],
   "source": [
    "len(train_ds), len(val_ds), len(test_ds)"
   ]
  },
  {
   "cell_type": "code",
   "execution_count": 29,
   "metadata": {},
   "outputs": [],
   "source": [
    "y_labels = set()\n",
    "for x, y in train_ds:\n",
    "    y_labels.add(y)"
   ]
  },
  {
   "cell_type": "code",
   "execution_count": 30,
   "metadata": {},
   "outputs": [
    {
     "data": {
      "text/plain": [
       "(964, (105, 105, 1))"
      ]
     },
     "execution_count": 30,
     "metadata": {},
     "output_type": "execute_result"
    }
   ],
   "source": [
    "# Number of classes\n",
    "len(y_labels), x.shape"
   ]
  },
  {
   "cell_type": "code",
   "execution_count": 31,
   "metadata": {
    "scrolled": true
   },
   "outputs": [
    {
     "data": {
      "text/plain": [
       "(30,\n",
       " {'Alphabet_of_the_Magi',\n",
       "  'Anglo-Saxon_Futhorc',\n",
       "  'Arcadian',\n",
       "  'Armenian',\n",
       "  'Asomtavruli_(Georgian)',\n",
       "  'Balinese',\n",
       "  'Bengali',\n",
       "  'Blackfoot_(Canadian_Aboriginal_Syllabics)',\n",
       "  'Braille',\n",
       "  'Burmese_(Myanmar)',\n",
       "  'Cyrillic',\n",
       "  'Early_Aramaic',\n",
       "  'Futurama',\n",
       "  'Grantha',\n",
       "  'Greek',\n",
       "  'Gujarati',\n",
       "  'Hebrew',\n",
       "  'Inuktitut_(Canadian_Aboriginal_Syllabics)',\n",
       "  'Japanese_(hiragana)',\n",
       "  'Japanese_(katakana)',\n",
       "  'Korean',\n",
       "  'Latin',\n",
       "  'Malay_(Jawi_-_Arabic)',\n",
       "  'Mkhedruli_(Georgian)',\n",
       "  'N_Ko',\n",
       "  'Ojibwe_(Canadian_Aboriginal_Syllabics)',\n",
       "  'Sanskrit',\n",
       "  'Syriac_(Estrangelo)',\n",
       "  'Tagalog',\n",
       "  'Tifinagh'})"
      ]
     },
     "execution_count": 31,
     "metadata": {},
     "output_type": "execute_result"
    }
   ],
   "source": [
    "# number of alphabets:\n",
    "res = set([y_label.split('/')[0] for y_label in y_labels])\n",
    "len(res), res"
   ]
  },
  {
   "cell_type": "markdown",
   "metadata": {},
   "source": [
    "Create pairs"
   ]
  },
  {
   "cell_type": "code",
   "execution_count": 32,
   "metadata": {},
   "outputs": [],
   "source": [
    "from collections import defaultdict\n",
    "\n",
    "from common.dataflow import ProxyDataset"
   ]
  },
  {
   "cell_type": "code",
   "execution_count": 33,
   "metadata": {},
   "outputs": [],
   "source": [
    "def _create_same_pairs(labels_indices, nb_samples_per_class):\n",
    "    same_pairs = []\n",
    "    for indices in labels_indices.values():\n",
    "        same_pairs.extend([np.random.choice(indices, size=2, replace=False) for _ in range(nb_samples_per_class)])\n",
    "    return np.array(same_pairs)\n",
    "\n",
    "\n",
    "def _create_diff_pairs(labels_indices, nb_samples_per_two_classes):\n",
    "    diff_pairs = []\n",
    "    for i, indices1 in enumerate(labels_indices.values()):\n",
    "        for j, indices2 in enumerate(labels_indices.values()):\n",
    "            if (i <= j):\n",
    "                continue\n",
    "            ind1 = np.random.choice(indices1, size=nb_samples_per_two_classes)\n",
    "            ind2 = np.random.choice(indices2, size=nb_samples_per_two_classes)\n",
    "            diff_pairs.extend([[_i, _j] for _i, _j in zip(ind1, ind2)])\n",
    "    return np.array(diff_pairs)\n",
    "\n",
    "class SameOrDifferentPairsDataset(ProxyDataset):\n",
    "    \"\"\"\n",
    "    Create a dataset of pairs uniformly sampled from input dataset\n",
    "    Pairs are set of two images classified as \n",
    "        - 'same' if images are from the same class\n",
    "        - 'different' if images are from different classes            \n",
    "    \"\"\"\n",
    "    \n",
    "    def __init__(self, ds, nb_pairs, shuffle=True):\n",
    "        super(SameOrDifferentPairsDataset, self).__init__(ds)\n",
    "        self.nb_pairs = nb_pairs\n",
    "        # get mapping y_label -> indices\n",
    "        labels_indices = defaultdict(list)\n",
    "        alphabet_indices = defaultdict(list)        \n",
    "        for i, (_, y) in enumerate(ds):\n",
    "            alphabet_indices[y].append(i)\n",
    "            y = y.split(\"/\")[0]\n",
    "            labels_indices[y].append(i)\n",
    "        \n",
    "        half_nb_pairs = int(nb_pairs//2)\n",
    "        n1 = int(np.ceil(half_nb_pairs / len(alphabet_indices)))\n",
    "        same_pairs = _create_same_pairs(alphabet_indices, n1)\n",
    "        if len(same_pairs) > half_nb_pairs:\n",
    "            same_pairs = same_pairs[:half_nb_pairs, :]\n",
    "        \n",
    "        n2 = int(np.ceil(nb_pairs / (len(labels_indices) * (len(labels_indices) - 1))))\n",
    "        diff_pairs = _create_diff_pairs(labels_indices, n2)\n",
    "        if len(diff_pairs) > half_nb_pairs:\n",
    "            diff_pairs = diff_pairs[:half_nb_pairs, :]\n",
    "        \n",
    "        self.pairs = np.concatenate((same_pairs, diff_pairs), axis=0)\n",
    "        np.random.shuffle(self.pairs)\n",
    "            \n",
    "    def __len__(self):\n",
    "        return self.nb_pairs\n",
    "        \n",
    "    def __getitem__(self, index):\n",
    "        i1, i2 = self.pairs[index, :]\n",
    "        x1, y1 = self.ds[i1]\n",
    "        x2, y2 = self.ds[i2]                \n",
    "        return x1, x2, int(y1 == y2)"
   ]
  },
  {
   "cell_type": "code",
   "execution_count": 34,
   "metadata": {},
   "outputs": [],
   "source": [
    "train_pairs = SameOrDifferentPairsDataset(train_ds, nb_pairs=int(30e3))\n",
    "val_pairs = SameOrDifferentPairsDataset(val_ds, nb_pairs=int(10e3))\n",
    "test_pairs = SameOrDifferentPairsDataset(test_ds, nb_pairs=int(10e3))"
   ]
  },
  {
   "cell_type": "code",
   "execution_count": 35,
   "metadata": {},
   "outputs": [
    {
     "data": {
      "text/plain": [
       "(30000, 10000, 10000)"
      ]
     },
     "execution_count": 35,
     "metadata": {},
     "output_type": "execute_result"
    }
   ],
   "source": [
    "len(train_pairs), len(val_pairs), len(test_pairs)"
   ]
  },
  {
   "cell_type": "markdown",
   "metadata": {},
   "source": [
    "#### Data augmentations\n",
    "\n",
    "Random affine transformation with 0.5 probability: \n",
    "- rotation: [-10, 10]\n",
    "- scale: [0.8, 1.2]\n",
    "- translations: [-2, 2]\n",
    "- shear: [-0.3, 0.3]"
   ]
  },
  {
   "cell_type": "code",
   "execution_count": 36,
   "metadata": {},
   "outputs": [],
   "source": [
    "from common.imgaug import RandomAffine, RandomApply\n",
    "from common.dataflow import TransformedDataset\n",
    "from torchvision.transforms import Compose, ToTensor, Normalize"
   ]
  },
  {
   "cell_type": "code",
   "execution_count": 37,
   "metadata": {},
   "outputs": [],
   "source": [
    "train_data_aug = Compose([\n",
    "    RandomApply(\n",
    "        RandomAffine(rotation=(-10, 10), scale=(0.8, 1.2), translate=(-0.05, 0.05)),\n",
    "        proba=0.5\n",
    "    ),\n",
    "    ToTensor()\n",
    "])"
   ]
  },
  {
   "cell_type": "code",
   "execution_count": 38,
   "metadata": {},
   "outputs": [],
   "source": [
    "class PairTransformedDataset(TransformedDataset):    \n",
    "    def __getitem__(self, index):\n",
    "        x1, x2, y = self.ds[index]\n",
    "        x1 = self.x_transforms(x1)\n",
    "        x2 = self.x_transforms(x2) \n",
    "        if self.y_transforms is not None:\n",
    "            y = self.y_transforms(y)\n",
    "        return x1, x2, y"
   ]
  },
  {
   "cell_type": "code",
   "execution_count": 39,
   "metadata": {},
   "outputs": [],
   "source": [
    "train_aug_pairs = PairTransformedDataset(train_pairs, x_transforms=train_data_aug)"
   ]
  },
  {
   "cell_type": "code",
   "execution_count": 40,
   "metadata": {},
   "outputs": [],
   "source": [
    "from common.dataflow_visu_utils import _to_ndarray"
   ]
  },
  {
   "cell_type": "code",
   "execution_count": 41,
   "metadata": {
    "scrolled": true
   },
   "outputs": [
    {
     "data": {
      "image/png": "[encoded data removed]",
      "text/plain": [
       "<matplotlib.figure.Figure at 0x7f6c66809160>"
      ]
     },
     "metadata": {},
     "output_type": "display_data"
    },
    {
     "data": {
      "image/png": "[encoded data removed]",
      "text/plain": [
       "<matplotlib.figure.Figure at 0x7f6c70d61940>"
      ]
     },
     "metadata": {},
     "output_type": "display_data"
    }
   ],
   "source": [
    "max_datapoints = 10\n",
    "n_cols = 5\n",
    "for i, (x1, x2, y) in enumerate(train_aug_pairs):\n",
    "\n",
    "    if i % n_cols == 0:\n",
    "        plt.figure(figsize=(12, 4))\n",
    "\n",
    "    x1 = _to_ndarray(x1)\n",
    "    x2 = _to_ndarray(x2)    \n",
    "    plt.subplot(2, n_cols, (i % n_cols) + 1)\n",
    "    plt.imshow(x1)\n",
    "    plt.title(\"Class %i\" % y)\n",
    "    plt.subplot(2, n_cols, (i % n_cols) + 1 + n_cols)\n",
    "    plt.imshow(x2)\n",
    "\n",
    "    max_datapoints -= 1\n",
    "    if max_datapoints == 0:\n",
    "        break"
   ]
  },
  {
   "cell_type": "markdown",
   "metadata": {},
   "source": [
    "Batch loader"
   ]
  },
  {
   "cell_type": "code",
   "execution_count": 42,
   "metadata": {},
   "outputs": [],
   "source": [
    "batch_size = 5\n",
    "train_batches = DataLoader(train_aug_pairs, batch_size=batch_size, \n",
    "                           shuffle=True, num_workers=5,                      \n",
    "                           drop_last=True)\n",
    "# val_batches = DataLoader(val_pairs, batch_size=batch_size, \n",
    "#                               shuffle=True, num_workers=5,\n",
    "#                               pin_memory=True, drop_last=True)\n",
    "# test_batches = DataLoader(test_pairs, batch_size=batch_size, \n",
    "#                                shuffle=True, num_workers=5,                   \n",
    "#                                pin_memory=True, drop_last=True)"
   ]
  },
  {
   "cell_type": "code",
   "execution_count": 43,
   "metadata": {},
   "outputs": [
    {
     "data": {
      "text/plain": [
       "6000"
      ]
     },
     "execution_count": 43,
     "metadata": {},
     "output_type": "execute_result"
    }
   ],
   "source": [
    "len(train_batches)"
   ]
  },
  {
   "cell_type": "code",
   "execution_count": 44,
   "metadata": {
    "scrolled": true
   },
   "outputs": [
    {
     "name": "stdout",
     "output_type": "stream",
     "text": [
      "torch.Size([5, 1, 105, 105]) torch.Size([5, 1, 105, 105]) torch.Size([5])\n",
      "torch.Size([5, 1, 105, 105]) torch.Size([5, 1, 105, 105]) torch.Size([5])\n"
     ]
    },
    {
     "data": {
      "image/png": "[encoded data removed]",
      "text/plain": [
       "<matplotlib.figure.Figure at 0x7f6c6632be80>"
      ]
     },
     "metadata": {},
     "output_type": "display_data"
    },
    {
     "data": {
      "image/png": "[encoded data removed]",
      "text/plain": [
       "<matplotlib.figure.Figure at 0x7f6cd4609b00>"
      ]
     },
     "metadata": {},
     "output_type": "display_data"
    }
   ],
   "source": [
    "max_datapoints = 2\n",
    "n_cols = 5\n",
    "for i, (batch_x1, batch_x2, batch_y) in enumerate(train_batches):\n",
    "\n",
    "    print(batch_x1.size(), batch_x2.size(), batch_y.size())\n",
    "    \n",
    "    plt.figure(figsize=(12, 4))\n",
    "    plt.suptitle(\"Batch %i\" % i)\n",
    "    for j in range(len(batch_x1)):\n",
    "        if j > 0 and j % n_cols == 0:\n",
    "            plt.figure(figsize=(16, 4))\n",
    "        \n",
    "        x1 = batch_x1[j, ...]\n",
    "        x2 = batch_x2[j, ...]\n",
    "        y = batch_y[j, ...]\n",
    "    \n",
    "        x1 = _to_ndarray(x1)\n",
    "        x2 = _to_ndarray(x2)    \n",
    "        plt.subplot(2, n_cols, (j % n_cols) + 1)\n",
    "        plt.imshow(x1)\n",
    "        plt.title(\"Class %i\" % y)\n",
    "        plt.subplot(2, n_cols, (j % n_cols) + 1 + n_cols)\n",
    "        plt.imshow(x2)\n",
    "\n",
    "    max_datapoints -= 1\n",
    "    if max_datapoints == 0:\n",
    "        break"
   ]
  },
  {
   "cell_type": "code",
   "execution_count": null,
   "metadata": {},
   "outputs": [],
   "source": []
  },
  {
   "cell_type": "markdown",
   "metadata": {},
   "source": [
    "#### Weight regularization\n",
    "\n",
    "L2 weights regularization: \n",
    "\n",
    "#### Loss function\n",
    "\n",
    "Binary cross-entropy"
   ]
  },
  {
   "cell_type": "code",
   "execution_count": 45,
   "metadata": {},
   "outputs": [],
   "source": [
    "from torch.nn import CrossEntropyLoss\n",
    "from torch.optim import RMSprop\n",
    "from torch.optim.lr_scheduler import ExponentialLR, ReduceLROnPlateau"
   ]
  },
  {
   "cell_type": "code",
   "execution_count": 46,
   "metadata": {},
   "outputs": [],
   "source": [
    "from torch.backends import cudnn\n",
    "cudnn.benchmark = True"
   ]
  },
  {
   "cell_type": "code",
   "execution_count": 47,
   "metadata": {},
   "outputs": [],
   "source": [
    "from common.dataflow import OnGPUDataLoader"
   ]
  },
  {
   "cell_type": "code",
   "execution_count": 48,
   "metadata": {},
   "outputs": [],
   "source": [
    "from datetime import datetime\n",
    "from common.training_utils import train_one_epoch, validate, write_csv_log, write_conf_log, verbose_optimizer, save_checkpoint"
   ]
  },
  {
   "cell_type": "code",
   "execution_count": 56,
   "metadata": {},
   "outputs": [
    {
     "ename": "RuntimeError",
     "evalue": "cuda runtime error (59) : device-side assert triggered at /pytorch/torch/lib/THC/generic/THCTensorCopy.c:18",
     "output_type": "error",
     "traceback": [
      "\u001b[0;31m---------------------------------------------------------------------------\u001b[0m",
      "\u001b[0;31mRuntimeError\u001b[0m                              Traceback (most recent call last)",
      "\u001b[0;32m<ipython-input-56-cc90317b637b>\u001b[0m in \u001b[0;36m<module>\u001b[0;34m()\u001b[0m\n\u001b[0;32m----> 1\u001b[0;31m \u001b[0msiamese_net\u001b[0m \u001b[0;34m=\u001b[0m \u001b[0mSiameseNetworks\u001b[0m\u001b[0;34m(\u001b[0m\u001b[0minput_shape\u001b[0m\u001b[0;34m=\u001b[0m\u001b[0;34m(\u001b[0m\u001b[0;36m105\u001b[0m\u001b[0;34m,\u001b[0m \u001b[0;36m105\u001b[0m\u001b[0;34m,\u001b[0m \u001b[0;36m1\u001b[0m\u001b[0;34m)\u001b[0m\u001b[0;34m)\u001b[0m\u001b[0;34m.\u001b[0m\u001b[0mcuda\u001b[0m\u001b[0;34m(\u001b[0m\u001b[0;34m)\u001b[0m\u001b[0;34m\u001b[0m\u001b[0m\n\u001b[0m",
      "\u001b[0;32m/usr/local/lib/python3.5/dist-packages/torch/nn/modules/module.py\u001b[0m in \u001b[0;36mcuda\u001b[0;34m(self, device_id)\u001b[0m\n\u001b[1;32m    145\u001b[0m                 \u001b[0mcopied\u001b[0m \u001b[0mto\u001b[0m \u001b[0mthat\u001b[0m \u001b[0mdevice\u001b[0m\u001b[0;34m\u001b[0m\u001b[0m\n\u001b[1;32m    146\u001b[0m         \"\"\"\n\u001b[0;32m--> 147\u001b[0;31m         \u001b[0;32mreturn\u001b[0m \u001b[0mself\u001b[0m\u001b[0;34m.\u001b[0m\u001b[0m_apply\u001b[0m\u001b[0;34m(\u001b[0m\u001b[0;32mlambda\u001b[0m \u001b[0mt\u001b[0m\u001b[0;34m:\u001b[0m \u001b[0mt\u001b[0m\u001b[0;34m.\u001b[0m\u001b[0mcuda\u001b[0m\u001b[0;34m(\u001b[0m\u001b[0mdevice_id\u001b[0m\u001b[0;34m)\u001b[0m\u001b[0;34m)\u001b[0m\u001b[0;34m\u001b[0m\u001b[0m\n\u001b[0m\u001b[1;32m    148\u001b[0m \u001b[0;34m\u001b[0m\u001b[0m\n\u001b[1;32m    149\u001b[0m     \u001b[0;32mdef\u001b[0m \u001b[0mcpu\u001b[0m\u001b[0;34m(\u001b[0m\u001b[0mself\u001b[0m\u001b[0;34m)\u001b[0m\u001b[0;34m:\u001b[0m\u001b[0;34m\u001b[0m\u001b[0m\n",
      "\u001b[0;32m/usr/local/lib/python3.5/dist-packages/torch/nn/modules/module.py\u001b[0m in \u001b[0;36m_apply\u001b[0;34m(self, fn)\u001b[0m\n\u001b[1;32m    116\u001b[0m     \u001b[0;32mdef\u001b[0m \u001b[0m_apply\u001b[0m\u001b[0;34m(\u001b[0m\u001b[0mself\u001b[0m\u001b[0;34m,\u001b[0m \u001b[0mfn\u001b[0m\u001b[0;34m)\u001b[0m\u001b[0;34m:\u001b[0m\u001b[0;34m\u001b[0m\u001b[0m\n\u001b[1;32m    117\u001b[0m         \u001b[0;32mfor\u001b[0m \u001b[0mmodule\u001b[0m \u001b[0;32min\u001b[0m \u001b[0mself\u001b[0m\u001b[0;34m.\u001b[0m\u001b[0mchildren\u001b[0m\u001b[0;34m(\u001b[0m\u001b[0;34m)\u001b[0m\u001b[0;34m:\u001b[0m\u001b[0;34m\u001b[0m\u001b[0m\n\u001b[0;32m--> 118\u001b[0;31m             \u001b[0mmodule\u001b[0m\u001b[0;34m.\u001b[0m\u001b[0m_apply\u001b[0m\u001b[0;34m(\u001b[0m\u001b[0mfn\u001b[0m\u001b[0;34m)\u001b[0m\u001b[0;34m\u001b[0m\u001b[0m\n\u001b[0m\u001b[1;32m    119\u001b[0m \u001b[0;34m\u001b[0m\u001b[0m\n\u001b[1;32m    120\u001b[0m         \u001b[0;32mfor\u001b[0m \u001b[0mparam\u001b[0m \u001b[0;32min\u001b[0m \u001b[0mself\u001b[0m\u001b[0;34m.\u001b[0m\u001b[0m_parameters\u001b[0m\u001b[0;34m.\u001b[0m\u001b[0mvalues\u001b[0m\u001b[0;34m(\u001b[0m\u001b[0;34m)\u001b[0m\u001b[0;34m:\u001b[0m\u001b[0;34m\u001b[0m\u001b[0m\n",
      "\u001b[0;32m/usr/local/lib/python3.5/dist-packages/torch/nn/modules/module.py\u001b[0m in \u001b[0;36m_apply\u001b[0;34m(self, fn)\u001b[0m\n\u001b[1;32m    116\u001b[0m     \u001b[0;32mdef\u001b[0m \u001b[0m_apply\u001b[0m\u001b[0;34m(\u001b[0m\u001b[0mself\u001b[0m\u001b[0;34m,\u001b[0m \u001b[0mfn\u001b[0m\u001b[0;34m)\u001b[0m\u001b[0;34m:\u001b[0m\u001b[0;34m\u001b[0m\u001b[0m\n\u001b[1;32m    117\u001b[0m         \u001b[0;32mfor\u001b[0m \u001b[0mmodule\u001b[0m \u001b[0;32min\u001b[0m \u001b[0mself\u001b[0m\u001b[0;34m.\u001b[0m\u001b[0mchildren\u001b[0m\u001b[0;34m(\u001b[0m\u001b[0;34m)\u001b[0m\u001b[0;34m:\u001b[0m\u001b[0;34m\u001b[0m\u001b[0m\n\u001b[0;32m--> 118\u001b[0;31m             \u001b[0mmodule\u001b[0m\u001b[0;34m.\u001b[0m\u001b[0m_apply\u001b[0m\u001b[0;34m(\u001b[0m\u001b[0mfn\u001b[0m\u001b[0;34m)\u001b[0m\u001b[0;34m\u001b[0m\u001b[0m\n\u001b[0m\u001b[1;32m    119\u001b[0m \u001b[0;34m\u001b[0m\u001b[0m\n\u001b[1;32m    120\u001b[0m         \u001b[0;32mfor\u001b[0m \u001b[0mparam\u001b[0m \u001b[0;32min\u001b[0m \u001b[0mself\u001b[0m\u001b[0;34m.\u001b[0m\u001b[0m_parameters\u001b[0m\u001b[0;34m.\u001b[0m\u001b[0mvalues\u001b[0m\u001b[0;34m(\u001b[0m\u001b[0;34m)\u001b[0m\u001b[0;34m:\u001b[0m\u001b[0;34m\u001b[0m\u001b[0m\n",
      "\u001b[0;32m/usr/local/lib/python3.5/dist-packages/torch/nn/modules/module.py\u001b[0m in \u001b[0;36m_apply\u001b[0;34m(self, fn)\u001b[0m\n\u001b[1;32m    116\u001b[0m     \u001b[0;32mdef\u001b[0m \u001b[0m_apply\u001b[0m\u001b[0;34m(\u001b[0m\u001b[0mself\u001b[0m\u001b[0;34m,\u001b[0m \u001b[0mfn\u001b[0m\u001b[0;34m)\u001b[0m\u001b[0;34m:\u001b[0m\u001b[0;34m\u001b[0m\u001b[0m\n\u001b[1;32m    117\u001b[0m         \u001b[0;32mfor\u001b[0m \u001b[0mmodule\u001b[0m \u001b[0;32min\u001b[0m \u001b[0mself\u001b[0m\u001b[0;34m.\u001b[0m\u001b[0mchildren\u001b[0m\u001b[0;34m(\u001b[0m\u001b[0;34m)\u001b[0m\u001b[0;34m:\u001b[0m\u001b[0;34m\u001b[0m\u001b[0m\n\u001b[0;32m--> 118\u001b[0;31m             \u001b[0mmodule\u001b[0m\u001b[0;34m.\u001b[0m\u001b[0m_apply\u001b[0m\u001b[0;34m(\u001b[0m\u001b[0mfn\u001b[0m\u001b[0;34m)\u001b[0m\u001b[0;34m\u001b[0m\u001b[0m\n\u001b[0m\u001b[1;32m    119\u001b[0m \u001b[0;34m\u001b[0m\u001b[0m\n\u001b[1;32m    120\u001b[0m         \u001b[0;32mfor\u001b[0m \u001b[0mparam\u001b[0m \u001b[0;32min\u001b[0m \u001b[0mself\u001b[0m\u001b[0;34m.\u001b[0m\u001b[0m_parameters\u001b[0m\u001b[0;34m.\u001b[0m\u001b[0mvalues\u001b[0m\u001b[0;34m(\u001b[0m\u001b[0;34m)\u001b[0m\u001b[0;34m:\u001b[0m\u001b[0;34m\u001b[0m\u001b[0m\n",
      "\u001b[0;32m/usr/local/lib/python3.5/dist-packages/torch/nn/modules/module.py\u001b[0m in \u001b[0;36m_apply\u001b[0;34m(self, fn)\u001b[0m\n\u001b[1;32m    122\u001b[0m                 \u001b[0;31m# Variables stored in modules are graph leaves, and we don't\u001b[0m\u001b[0;34m\u001b[0m\u001b[0;34m\u001b[0m\u001b[0m\n\u001b[1;32m    123\u001b[0m                 \u001b[0;31m# want to create copy nodes, so we have to unpack the data.\u001b[0m\u001b[0;34m\u001b[0m\u001b[0;34m\u001b[0m\u001b[0m\n\u001b[0;32m--> 124\u001b[0;31m                 \u001b[0mparam\u001b[0m\u001b[0;34m.\u001b[0m\u001b[0mdata\u001b[0m \u001b[0;34m=\u001b[0m \u001b[0mfn\u001b[0m\u001b[0;34m(\u001b[0m\u001b[0mparam\u001b[0m\u001b[0;34m.\u001b[0m\u001b[0mdata\u001b[0m\u001b[0;34m)\u001b[0m\u001b[0;34m\u001b[0m\u001b[0m\n\u001b[0m\u001b[1;32m    125\u001b[0m                 \u001b[0;32mif\u001b[0m \u001b[0mparam\u001b[0m\u001b[0;34m.\u001b[0m\u001b[0m_grad\u001b[0m \u001b[0;32mis\u001b[0m \u001b[0;32mnot\u001b[0m \u001b[0;32mNone\u001b[0m\u001b[0;34m:\u001b[0m\u001b[0;34m\u001b[0m\u001b[0m\n\u001b[1;32m    126\u001b[0m                     \u001b[0mparam\u001b[0m\u001b[0;34m.\u001b[0m\u001b[0m_grad\u001b[0m\u001b[0;34m.\u001b[0m\u001b[0mdata\u001b[0m \u001b[0;34m=\u001b[0m \u001b[0mfn\u001b[0m\u001b[0;34m(\u001b[0m\u001b[0mparam\u001b[0m\u001b[0;34m.\u001b[0m\u001b[0m_grad\u001b[0m\u001b[0;34m.\u001b[0m\u001b[0mdata\u001b[0m\u001b[0;34m)\u001b[0m\u001b[0;34m\u001b[0m\u001b[0m\n",
      "\u001b[0;32m/usr/local/lib/python3.5/dist-packages/torch/nn/modules/module.py\u001b[0m in \u001b[0;36m<lambda>\u001b[0;34m(t)\u001b[0m\n\u001b[1;32m    145\u001b[0m                 \u001b[0mcopied\u001b[0m \u001b[0mto\u001b[0m \u001b[0mthat\u001b[0m \u001b[0mdevice\u001b[0m\u001b[0;34m\u001b[0m\u001b[0m\n\u001b[1;32m    146\u001b[0m         \"\"\"\n\u001b[0;32m--> 147\u001b[0;31m         \u001b[0;32mreturn\u001b[0m \u001b[0mself\u001b[0m\u001b[0;34m.\u001b[0m\u001b[0m_apply\u001b[0m\u001b[0;34m(\u001b[0m\u001b[0;32mlambda\u001b[0m \u001b[0mt\u001b[0m\u001b[0;34m:\u001b[0m \u001b[0mt\u001b[0m\u001b[0;34m.\u001b[0m\u001b[0mcuda\u001b[0m\u001b[0;34m(\u001b[0m\u001b[0mdevice_id\u001b[0m\u001b[0;34m)\u001b[0m\u001b[0;34m)\u001b[0m\u001b[0;34m\u001b[0m\u001b[0m\n\u001b[0m\u001b[1;32m    148\u001b[0m \u001b[0;34m\u001b[0m\u001b[0m\n\u001b[1;32m    149\u001b[0m     \u001b[0;32mdef\u001b[0m \u001b[0mcpu\u001b[0m\u001b[0;34m(\u001b[0m\u001b[0mself\u001b[0m\u001b[0;34m)\u001b[0m\u001b[0;34m:\u001b[0m\u001b[0;34m\u001b[0m\u001b[0m\n",
      "\u001b[0;32m/usr/local/lib/python3.5/dist-packages/torch/_utils.py\u001b[0m in \u001b[0;36m_cuda\u001b[0;34m(self, device, async)\u001b[0m\n\u001b[1;32m     64\u001b[0m         \u001b[0;32melse\u001b[0m\u001b[0;34m:\u001b[0m\u001b[0;34m\u001b[0m\u001b[0m\n\u001b[1;32m     65\u001b[0m             \u001b[0mnew_type\u001b[0m \u001b[0;34m=\u001b[0m \u001b[0mgetattr\u001b[0m\u001b[0;34m(\u001b[0m\u001b[0mtorch\u001b[0m\u001b[0;34m.\u001b[0m\u001b[0mcuda\u001b[0m\u001b[0;34m,\u001b[0m \u001b[0mself\u001b[0m\u001b[0;34m.\u001b[0m\u001b[0m__class__\u001b[0m\u001b[0;34m.\u001b[0m\u001b[0m__name__\u001b[0m\u001b[0;34m)\u001b[0m\u001b[0;34m\u001b[0m\u001b[0m\n\u001b[0;32m---> 66\u001b[0;31m             \u001b[0;32mreturn\u001b[0m \u001b[0mnew_type\u001b[0m\u001b[0;34m(\u001b[0m\u001b[0mself\u001b[0m\u001b[0;34m.\u001b[0m\u001b[0msize\u001b[0m\u001b[0;34m(\u001b[0m\u001b[0;34m)\u001b[0m\u001b[0;34m)\u001b[0m\u001b[0;34m.\u001b[0m\u001b[0mcopy_\u001b[0m\u001b[0;34m(\u001b[0m\u001b[0mself\u001b[0m\u001b[0;34m,\u001b[0m \u001b[0masync\u001b[0m\u001b[0;34m)\u001b[0m\u001b[0;34m\u001b[0m\u001b[0m\n\u001b[0m\u001b[1;32m     67\u001b[0m \u001b[0;34m\u001b[0m\u001b[0m\n\u001b[1;32m     68\u001b[0m \u001b[0;34m\u001b[0m\u001b[0m\n",
      "\u001b[0;31mRuntimeError\u001b[0m: cuda runtime error (59) : device-side assert triggered at /pytorch/torch/lib/THC/generic/THCTensorCopy.c:18"
     ]
    }
   ],
   "source": [
    "siamese_net = SiameseNetworks(input_shape=(105, 105, 1)).cuda()"
   ]
  },
  {
   "cell_type": "code",
   "execution_count": 49,
   "metadata": {},
   "outputs": [],
   "source": [
    "conf = {\n",
    "    'weight_decay': 0.01,\n",
    "    'lr_features': 0.001,\n",
    "    'lr_classifier': 0.01,\n",
    "    \n",
    "    'n_epochs': 10,\n",
    "    'batch_size': 32,\n",
    "    \n",
    "    'gamma': 0.99\n",
    "}"
   ]
  },
  {
   "cell_type": "code",
   "execution_count": 50,
   "metadata": {},
   "outputs": [],
   "source": [
    "criterion = CrossEntropyLoss().cuda()"
   ]
  },
  {
   "cell_type": "code",
   "execution_count": 51,
   "metadata": {},
   "outputs": [],
   "source": [
    "optimizer = RMSprop([{\n",
    "    'params': siamese_net.net.features.parameters(),\n",
    "    'lr': conf['lr_features'],    \n",
    "}, {\n",
    "    'params': siamese_net.classifier.parameters(),\n",
    "    'lr': conf['lr_classifier']\n",
    "}], \n",
    "    eps=1.0, \n",
    "    weight_decay=conf['weight_decay']\n",
    ")"
   ]
  },
  {
   "cell_type": "code",
   "execution_count": 52,
   "metadata": {},
   "outputs": [],
   "source": [
    "# lr <- lr_init * gamma ** epoch\n",
    "scheduler = ExponentialLR(optimizer, gamma=conf['gamma'])\n",
    "onplateau_scheduler = ReduceLROnPlateau(optimizer, factor=0.5, patience=2, verbose=True)"
   ]
  },
  {
   "cell_type": "markdown",
   "metadata": {},
   "source": [
    "Start training"
   ]
  },
  {
   "cell_type": "code",
   "execution_count": 53,
   "metadata": {},
   "outputs": [],
   "source": [
    "now = datetime.now()\n",
    "logs_path = os.path.join('logs', 'seamese_networks_verification_task_%s' % (now.strftime(\"%Y%m%d_%H%M\")))\n",
    "if not os.path.exists(logs_path):\n",
    "    os.makedirs(logs_path)"
   ]
  },
  {
   "cell_type": "code",
   "execution_count": 55,
   "metadata": {},
   "outputs": [
    {
     "name": "stderr",
     "output_type": "stream",
     "text": [
      "\r",
      "  0%|          | 0/937 [00:00<?, ?it/s]"
     ]
    },
    {
     "name": "stdout",
     "output_type": "stream",
     "text": [
      "\n",
      "Optimizer: RMSprop\n",
      "Optimizer parameters: \n",
      "- Param group: \n",
      "\tlr: 0.00099\n",
      "\tinitial_lr: 0.001\n",
      "\talpha: 0.99\n",
      "\tweight_decay: 0.01\n",
      "\tmomentum: 0\n",
      "\teps: 1.0\n",
      "\tcentered: False\n",
      "- Param group: \n",
      "\tlr: 0.0099\n",
      "\tinitial_lr: 0.01\n",
      "\talpha: 0.99\n",
      "\tweight_decay: 0.01\n",
      "\tmomentum: 0\n",
      "\teps: 1.0\n",
      "\tcentered: False\n",
      "\n"
     ]
    },
    {
     "name": "stderr",
     "output_type": "stream",
     "text": [
      "\n"
     ]
    },
    {
     "ename": "RuntimeError",
     "evalue": "cuda runtime error (59) : device-side assert triggered at /pytorch/torch/lib/THC/generic/THCTensorCopy.c:126",
     "output_type": "error",
     "traceback": [
      "\u001b[0;31m---------------------------------------------------------------------------\u001b[0m",
      "\u001b[0;31mRuntimeError\u001b[0m                              Traceback (most recent call last)",
      "\u001b[0;32m<ipython-input-55-a11d13e21728>\u001b[0m in \u001b[0;36m<module>\u001b[0;34m()\u001b[0m\n\u001b[1;32m     21\u001b[0m     train_loss, train_prec1 = train_one_epoch(siamese_net, train_batches, \n\u001b[1;32m     22\u001b[0m                                               \u001b[0mcriterion\u001b[0m\u001b[0;34m,\u001b[0m \u001b[0moptimizer\u001b[0m\u001b[0;34m,\u001b[0m\u001b[0;34m\u001b[0m\u001b[0m\n\u001b[0;32m---> 23\u001b[0;31m                                               epoch, conf['n_epochs'])\n\u001b[0m\u001b[1;32m     24\u001b[0m     \u001b[0;32massert\u001b[0m \u001b[0mtrain_loss\u001b[0m\u001b[0;34m,\u001b[0m \u001b[0mtrain_prec1\u001b[0m\u001b[0;34m\u001b[0m\u001b[0m\n\u001b[1;32m     25\u001b[0m \u001b[0;34m\u001b[0m\u001b[0m\n",
      "\u001b[0;32m/home/working_directory/ml/pytorch-my_examples/common/training_utils.py\u001b[0m in \u001b[0;36mtrain_one_epoch\u001b[0;34m(model, train_batches, criterion, optimizer, epoch, n_epochs)\u001b[0m\n\u001b[1;32m     15\u001b[0m     \u001b[0;32mtry\u001b[0m\u001b[0;34m:\u001b[0m\u001b[0;34m\u001b[0m\u001b[0m\n\u001b[1;32m     16\u001b[0m         \u001b[0;32mwith\u001b[0m \u001b[0mget_tqdm\u001b[0m\u001b[0;34m(\u001b[0m\u001b[0mtotal\u001b[0m\u001b[0;34m=\u001b[0m\u001b[0mlen\u001b[0m\u001b[0;34m(\u001b[0m\u001b[0mtrain_batches\u001b[0m\u001b[0;34m)\u001b[0m\u001b[0;34m)\u001b[0m \u001b[0;32mas\u001b[0m \u001b[0mpbar\u001b[0m\u001b[0;34m:\u001b[0m\u001b[0;34m\u001b[0m\u001b[0m\n\u001b[0;32m---> 17\u001b[0;31m             \u001b[0;32mfor\u001b[0m \u001b[0mi\u001b[0m\u001b[0;34m,\u001b[0m \u001b[0mbatch_data\u001b[0m \u001b[0;32min\u001b[0m \u001b[0menumerate\u001b[0m\u001b[0;34m(\u001b[0m\u001b[0mtrain_batches\u001b[0m\u001b[0;34m)\u001b[0m\u001b[0;34m:\u001b[0m\u001b[0;34m\u001b[0m\u001b[0m\n\u001b[0m\u001b[1;32m     18\u001b[0m \u001b[0;34m\u001b[0m\u001b[0m\n\u001b[1;32m     19\u001b[0m                 \u001b[0mbatch_size\u001b[0m \u001b[0;34m=\u001b[0m \u001b[0mbatch_data\u001b[0m\u001b[0;34m[\u001b[0m\u001b[0;36m0\u001b[0m\u001b[0;34m]\u001b[0m\u001b[0;34m.\u001b[0m\u001b[0msize\u001b[0m\u001b[0;34m(\u001b[0m\u001b[0;36m0\u001b[0m\u001b[0;34m)\u001b[0m\u001b[0;34m\u001b[0m\u001b[0m\n",
      "\u001b[0;32m/home/working_directory/ml/pytorch-my_examples/common/dataflow.py\u001b[0m in \u001b[0;36m__next__\u001b[0;34m(self)\u001b[0m\n\u001b[1;32m     88\u001b[0m             \u001b[0;32mif\u001b[0m \u001b[0;32mnot\u001b[0m \u001b[0mb\u001b[0m\u001b[0;34m.\u001b[0m\u001b[0mis_pinned\u001b[0m\u001b[0;34m(\u001b[0m\u001b[0;34m)\u001b[0m\u001b[0;34m:\u001b[0m\u001b[0;34m\u001b[0m\u001b[0m\n\u001b[1;32m     89\u001b[0m                 \u001b[0mb\u001b[0m \u001b[0;34m=\u001b[0m \u001b[0mb\u001b[0m\u001b[0;34m.\u001b[0m\u001b[0mpin_memory\u001b[0m\u001b[0;34m(\u001b[0m\u001b[0;34m)\u001b[0m\u001b[0;34m\u001b[0m\u001b[0m\n\u001b[0;32m---> 90\u001b[0;31m             \u001b[0mcuda_batch\u001b[0m\u001b[0;34m.\u001b[0m\u001b[0mappend\u001b[0m\u001b[0;34m(\u001b[0m\u001b[0mb\u001b[0m\u001b[0;34m.\u001b[0m\u001b[0mcuda\u001b[0m\u001b[0;34m(\u001b[0m\u001b[0masync\u001b[0m\u001b[0;34m=\u001b[0m\u001b[0;32mTrue\u001b[0m\u001b[0;34m)\u001b[0m\u001b[0;34m)\u001b[0m\u001b[0;34m\u001b[0m\u001b[0m\n\u001b[0m\u001b[1;32m     91\u001b[0m         \u001b[0;32mreturn\u001b[0m \u001b[0mcuda_batch\u001b[0m\u001b[0;34m\u001b[0m\u001b[0m\n\u001b[1;32m     92\u001b[0m \u001b[0;34m\u001b[0m\u001b[0m\n",
      "\u001b[0;32m/usr/local/lib/python3.5/dist-packages/torch/_utils.py\u001b[0m in \u001b[0;36m_cuda\u001b[0;34m(self, device, async)\u001b[0m\n\u001b[1;32m     64\u001b[0m         \u001b[0;32melse\u001b[0m\u001b[0;34m:\u001b[0m\u001b[0;34m\u001b[0m\u001b[0m\n\u001b[1;32m     65\u001b[0m             \u001b[0mnew_type\u001b[0m \u001b[0;34m=\u001b[0m \u001b[0mgetattr\u001b[0m\u001b[0;34m(\u001b[0m\u001b[0mtorch\u001b[0m\u001b[0;34m.\u001b[0m\u001b[0mcuda\u001b[0m\u001b[0;34m,\u001b[0m \u001b[0mself\u001b[0m\u001b[0;34m.\u001b[0m\u001b[0m__class__\u001b[0m\u001b[0;34m.\u001b[0m\u001b[0m__name__\u001b[0m\u001b[0;34m)\u001b[0m\u001b[0;34m\u001b[0m\u001b[0m\n\u001b[0;32m---> 66\u001b[0;31m             \u001b[0;32mreturn\u001b[0m \u001b[0mnew_type\u001b[0m\u001b[0;34m(\u001b[0m\u001b[0mself\u001b[0m\u001b[0;34m.\u001b[0m\u001b[0msize\u001b[0m\u001b[0;34m(\u001b[0m\u001b[0;34m)\u001b[0m\u001b[0;34m)\u001b[0m\u001b[0;34m.\u001b[0m\u001b[0mcopy_\u001b[0m\u001b[0;34m(\u001b[0m\u001b[0mself\u001b[0m\u001b[0;34m,\u001b[0m \u001b[0masync\u001b[0m\u001b[0;34m)\u001b[0m\u001b[0;34m\u001b[0m\u001b[0m\n\u001b[0m\u001b[1;32m     67\u001b[0m \u001b[0;34m\u001b[0m\u001b[0m\n\u001b[1;32m     68\u001b[0m \u001b[0;34m\u001b[0m\u001b[0m\n",
      "\u001b[0;31mRuntimeError\u001b[0m: cuda runtime error (59) : device-side assert triggered at /pytorch/torch/lib/THC/generic/THCTensorCopy.c:126"
     ]
    }
   ],
   "source": [
    "write_conf_log(logs_path, \"{}\".format(conf))\n",
    "write_conf_log(logs_path, verbose_optimizer(optimizer))\n",
    "\n",
    "train_batches = OnGPUDataLoader(train_aug_pairs, batch_size=conf['batch_size'], \n",
    "                                shuffle=True, num_workers=8, \n",
    "                                pin_memory=True, drop_last=True)\n",
    "\n",
    "val_batches = OnGPUDataLoader(val_pairs, batch_size=conf['batch_size'], \n",
    "                              shuffle=True, num_workers=8, \n",
    "                              pin_memory=True, drop_last=True)\n",
    "\n",
    "write_csv_log(logs_path, \"epoch,train_loss,train_prec1,val_loss,val_prec1\")\n",
    "\n",
    "best_prec1 = 0.0\n",
    "for epoch in range(conf['n_epochs']):\n",
    "    scheduler.step()\n",
    "    # Verbose learning rates:\n",
    "    print(verbose_optimizer(optimizer))\n",
    "\n",
    "    # train for one epoch\n",
    "    train_loss, train_prec1 = train_one_epoch(siamese_net, train_batches, \n",
    "                                              criterion, optimizer, \n",
    "                                              epoch, conf['n_epochs'])\n",
    "    assert train_loss, train_prec1\n",
    "\n",
    "    # evaluate on validation set\n",
    "    val_loss, val_prec1 = validate(siameze_net, val_batches, criterion)\n",
    "    assert val_loss, val_prec1\n",
    "    onplateau_scheduler.step(val_loss)\n",
    "\n",
    "    # Write a csv log file\n",
    "    write_csv_log(logs_path, \"%i,%f,%f,%f,%f\" % (epoch, train_loss, train_prec1, val_loss, val_prec1))\n",
    "\n",
    "    # remember best prec@1 and save checkpoint\n",
    "    if val_prec1 > best_prec1:\n",
    "        best_prec1 = max(val_prec1, best_prec1)\n",
    "        save_checkpoint({\n",
    "            'epoch': epoch + 1,\n",
    "            'state_dict': siameze_net.state_dict(),\n",
    "            'val_prec1': val_prec1,\n",
    "            'optimizer': optimizer.state_dict()\n",
    "        })        "
   ]
  },
  {
   "cell_type": "markdown",
   "metadata": {},
   "source": []
  },
  {
   "cell_type": "code",
   "execution_count": 60,
   "metadata": {},
   "outputs": [
    {
     "name": "stdout",
     "output_type": "stream",
     "text": [
      "Sat Nov 18 01:04:07 2017       \r\n",
      "+-----------------------------------------------------------------------------+\r\n",
      "| NVIDIA-SMI 375.66                 Driver Version: 375.66                    |\r\n",
      "|-------------------------------+----------------------+----------------------+\r\n",
      "| GPU  Name        Persistence-M| Bus-Id        Disp.A | Volatile Uncorr. ECC |\r\n",
      "| Fan  Temp  Perf  Pwr:Usage/Cap|         Memory-Usage | GPU-Util  Compute M. |\r\n",
      "|===============================+======================+======================|\r\n",
      "|   0  GeForce GTX 108...  Off  | 0000:02:00.0     Off |                  N/A |\r\n",
      "| 31%   55C    P2    78W / 250W |   1221MiB / 11170MiB |      0%      Default |\r\n",
      "+-------------------------------+----------------------+----------------------+\r\n",
      "                                                                               \r\n",
      "+-----------------------------------------------------------------------------+\r\n",
      "| Processes:                                                       GPU Memory |\r\n",
      "|  GPU       PID  Type  Process name                               Usage      |\r\n",
      "|=============================================================================|\r\n",
      "+-----------------------------------------------------------------------------+\r\n"
     ]
    }
   ],
   "source": [
    "!nvidia-smi"
   ]
  },
  {
   "cell_type": "markdown",
   "metadata": {},
   "source": [
    "### One-shot learning evaluation\n",
    "\n"
   ]
  },
  {
   "cell_type": "code",
   "execution_count": null,
   "metadata": {},
   "outputs": [],
   "source": []
  },
  {
   "cell_type": "code",
   "execution_count": null,
   "metadata": {},
   "outputs": [],
   "source": []
  }
 ],
 "metadata": {
  "kernelspec": {
   "display_name": "Python 3",
   "language": "python",
   "name": "python3"
  },
  "language_info": {
   "codemirror_mode": {
    "name": "ipython",
    "version": 3
   },
   "file_extension": ".py",
   "mimetype": "text/x-python",
   "name": "python",
   "nbconvert_exporter": "python",
   "pygments_lexer": "ipython3",
   "version": "3.5.2"
  }
 },
 "nbformat": 4,
 "nbformat_minor": 2
}
